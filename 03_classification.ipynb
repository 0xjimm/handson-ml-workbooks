{
  "nbformat": 4,
  "nbformat_minor": 0,
  "metadata": {
    "colab": {
      "name": "03_classification",
      "version": "0.3.2",
      "provenance": [],
      "toc_visible": true,
      "include_colab_link": true
    },
    "kernelspec": {
      "name": "python3",
      "display_name": "Python 3"
    }
  },
  "cells": [
    {
      "cell_type": "markdown",
      "metadata": {
        "id": "view-in-github",
        "colab_type": "text"
      },
      "source": [
        "<a href=\"https://colab.research.google.com/github/lejimmy/handson-ml-workbooks/blob/master/03_classification.ipynb\" target=\"_parent\"><img src=\"https://colab.research.google.com/assets/colab-badge.svg\" alt=\"Open In Colab\"/></a>"
      ]
    },
    {
      "cell_type": "markdown",
      "metadata": {
        "id": "HD01ST6e67YZ",
        "colab_type": "text"
      },
      "source": [
        "# MNIST\n",
        "\n",
        "In this chapter we will be using the MNIST dataset, which is a set of 70,000 small images of digits handwritten by high school students and employees of the US Census Bureau. Each image is labeled with the digit it represents. This set has been studied so much that it is often called the “Hello World” of Machine Learning: whenever people come up with a new classification algorithm, they are curious to see how it will perform on MNIST. Whenever someone learns Machine Learning, sooner or later they tackle MNIST."
      ]
    },
    {
      "cell_type": "code",
      "metadata": {
        "id": "xfUpevyDPPLw",
        "colab_type": "code",
        "colab": {}
      },
      "source": [
        "import time\n",
        "import pickle\n",
        "from joblib import dump, load"
      ],
      "execution_count": 0,
      "outputs": []
    },
    {
      "cell_type": "code",
      "metadata": {
        "id": "GItgB62nE81h",
        "colab_type": "code",
        "outputId": "aca53fd1-109f-49b1-f703-53e94a78f7e7",
        "colab": {
          "base_uri": "https://localhost:8080/",
          "height": 34
        }
      },
      "source": [
        "from sklearn.datasets import fetch_openml\n",
        "\n",
        "# fetches the MNIST dataset\n",
        "mnist = fetch_openml('mnist_784', version = 1)\n",
        "\n",
        "# view dictionary of keys\n",
        "mnist.keys()"
      ],
      "execution_count": 0,
      "outputs": [
        {
          "output_type": "execute_result",
          "data": {
            "text/plain": [
              "dict_keys(['data', 'target', 'feature_names', 'DESCR', 'details', 'categories', 'url'])"
            ]
          },
          "metadata": {
            "tags": []
          },
          "execution_count": 2
        }
      ]
    },
    {
      "cell_type": "markdown",
      "metadata": {
        "id": "4dcjAmt67mEO",
        "colab_type": "text"
      },
      "source": [
        "Datasets loaded by Scikit-Learn generally have a similar dictionary structure, including the following:\n",
        "- A `DESCR` key describing the dataset\n",
        "- A `data` key containing an array with one row per instances and one column per feature\n",
        "- A `target` key containing an array with the labels\n",
        "\n",
        "Note: these are read in as a dictionary and not as a pandas DataFrame."
      ]
    },
    {
      "cell_type": "code",
      "metadata": {
        "id": "gMlv_5k77lGm",
        "colab_type": "code",
        "outputId": "280846d2-59f9-4b39-cb4b-b9604b9b3a2f",
        "colab": {
          "base_uri": "https://localhost:8080/",
          "height": 51
        }
      },
      "source": [
        "# call dictionary for 'data' and 'target'\n",
        "X, y = mnist['data'], mnist['target']\n",
        "\n",
        "# print dictionary shapes\n",
        "print(X.shape)\n",
        "print(y.shape)"
      ],
      "execution_count": 0,
      "outputs": [
        {
          "output_type": "stream",
          "text": [
            "(70000, 784)\n",
            "(70000,)\n"
          ],
          "name": "stdout"
        }
      ]
    },
    {
      "cell_type": "markdown",
      "metadata": {
        "id": "QlWw_1BT8ejH",
        "colab_type": "text"
      },
      "source": [
        "There are 70,000 rows of images and each image has 784 features.\n",
        "\n",
        "Each image is 28x28 (784 pixels) and each feature represents each pixel's intensity from 0 (white) to 255 (black).\n",
        "\n",
        "We will grab one digit by grabbing the feature vector and reshaping it into a 28x28 array.  Then we will display it with Matplotlib's `imshow()` function."
      ]
    },
    {
      "cell_type": "code",
      "metadata": {
        "id": "7gejyfhf8Iy5",
        "colab_type": "code",
        "outputId": "d0aec5ff-2609-4358-ee93-ae41bc797f63",
        "colab": {
          "base_uri": "https://localhost:8080/",
          "height": 265
        }
      },
      "source": [
        "import matplotlib as mpl\n",
        "import matplotlib.pyplot as plt\n",
        "\n",
        "# get the first instance\n",
        "some_digit = X[0]\n",
        "\n",
        "# turn the since row of 784 numbers into 28 rows of 28 numbers\n",
        "some_digit_image = some_digit.reshape(28, 28)\n",
        "\n",
        "# plot the image in black and white\n",
        "def plot_digit(data):\n",
        "    image = data.reshape(28, 28)\n",
        "    plt.imshow(image, cmap = mpl.cm.binary,\n",
        "               interpolation=\"nearest\")\n",
        "    plt.axis(\"off\")\n",
        "\n",
        "plot_digit(some_digit_image)\n",
        "plt.show()"
      ],
      "execution_count": 0,
      "outputs": [
        {
          "output_type": "display_data",
          "data": {
            "image/png": "[encoded data removed]",
            "text/plain": [
              "<Figure size 432x288 with 1 Axes>"
            ]
          },
          "metadata": {
            "tags": []
          }
        }
      ]
    },
    {
      "cell_type": "code",
      "metadata": {
        "id": "y_Piq7WX9mej",
        "colab_type": "code",
        "outputId": "c7d2c8dd-54fe-485a-d67b-3990becb396f",
        "colab": {
          "base_uri": "https://localhost:8080/",
          "height": 34
        }
      },
      "source": [
        "# view label\n",
        "y[0]"
      ],
      "execution_count": 0,
      "outputs": [
        {
          "output_type": "execute_result",
          "data": {
            "text/plain": [
              "'5'"
            ]
          },
          "metadata": {
            "tags": []
          },
          "execution_count": 5
        }
      ]
    },
    {
      "cell_type": "markdown",
      "metadata": {
        "id": "amVqLB5I-pi_",
        "colab_type": "text"
      },
      "source": [
        "The image is clearly a 5 and the label also indicates that it is a 5.\n",
        "\n",
        "We can also see that the labels are a string.  Let's cast `y` to integers:"
      ]
    },
    {
      "cell_type": "code",
      "metadata": {
        "id": "iWz2xNRo-O4J",
        "colab_type": "code",
        "colab": {}
      },
      "source": [
        "import numpy as np\n",
        "\n",
        "# change y to integers\n",
        "y = y.astype(np.uint8)"
      ],
      "execution_count": 0,
      "outputs": []
    },
    {
      "cell_type": "markdown",
      "metadata": {
        "id": "EUiMkBFrETWZ",
        "colab_type": "text"
      },
      "source": [
        "Before we proceed, remember to split the data into a training and test set!  The MNIST dataset is actually already split and shuffled such that all cross-validation folds will be similar.  Also, recall that some algoithms are sensitive to the order of training."
      ]
    },
    {
      "cell_type": "code",
      "metadata": {
        "id": "2l8s88o3-70p",
        "colab_type": "code",
        "colab": {}
      },
      "source": [
        "# split the first 60,000 into the training set and the last 10,000 into the testing set\n",
        "X_train, X_test, y_train, y_test = X[:60000], X[60000:], y[:60000], y[60000:]"
      ],
      "execution_count": 0,
      "outputs": []
    },
    {
      "cell_type": "markdown",
      "metadata": {
        "id": "YsrWnVW0FJ-a",
        "colab_type": "text"
      },
      "source": [
        "# Training a Binary Classifier\n",
        "\n",
        "Let's simplify the problem for now and try to identify one digit - for example the number 5.  This binary classifier will be able to distinguish between 5 and not-5."
      ]
    },
    {
      "cell_type": "code",
      "metadata": {
        "id": "Mjn0JUgpEvz6",
        "colab_type": "code",
        "colab": {}
      },
      "source": [
        "# True for all 5's and False for all other digits\n",
        "y_train_5 = (y_train == 5)\n",
        "y_test_5 = (y_test == 5)"
      ],
      "execution_count": 0,
      "outputs": []
    },
    {
      "cell_type": "markdown",
      "metadata": {
        "id": "qsgg62s7Ft5d",
        "colab_type": "text"
      },
      "source": [
        "Previously for regression, we chose a regression algorithm and trained it.  Here we will choose a classifier and train it.\n",
        "\n",
        "In this first example we will start with a *Stochastic Gradient Descent (SGD)* classifier using Scikit-Learn's `SGDClassifier` class.  Stochastic refers to being randomly determined.\n",
        "\n",
        "The SGD classifier is able to handle large datasets efficiently because it trains instances independently (one at a time).  This also means that SGD is well suited for *online learning*.  More on that later."
      ]
    },
    {
      "cell_type": "code",
      "metadata": {
        "id": "XigFyg6kFjz5",
        "colab_type": "code",
        "outputId": "b5329b3e-b65b-48b4-ecd0-05ca990f3951",
        "colab": {
          "base_uri": "https://localhost:8080/",
          "height": 34
        }
      },
      "source": [
        "from sklearn.linear_model import SGDClassifier\n",
        "\n",
        "# construct the SGDClassifier, set random_state for reproducibility\n",
        "sgd_clf = SGDClassifier(random_state = 42)\n",
        "start_time = time.time()\n",
        "sgd_clf.fit(X_train, y_train_5)\n",
        "print('Training took {:.2f} seconds'.format(time.time() - start_time))"
      ],
      "execution_count": 0,
      "outputs": [
        {
          "output_type": "stream",
          "text": [
            "Training took 27.79 seconds\n"
          ],
          "name": "stdout"
        }
      ]
    },
    {
      "cell_type": "markdown",
      "metadata": {
        "id": "5e4np1EGHCVF",
        "colab_type": "text"
      },
      "source": [
        "Now that our model is trained, let's test it on our digit from earlier."
      ]
    },
    {
      "cell_type": "code",
      "metadata": {
        "id": "Z1n2-1zcGwaR",
        "colab_type": "code",
        "outputId": "bc1b4f88-efcd-481c-af44-247c289b49b6",
        "colab": {
          "base_uri": "https://localhost:8080/",
          "height": 34
        }
      },
      "source": [
        "# predict our first entry\n",
        "sgd_clf.predict([some_digit])"
      ],
      "execution_count": 0,
      "outputs": [
        {
          "output_type": "execute_result",
          "data": {
            "text/plain": [
              "array([ True])"
            ]
          },
          "metadata": {
            "tags": []
          },
          "execution_count": 10
        }
      ]
    },
    {
      "cell_type": "markdown",
      "metadata": {
        "id": "r-wzyLsLHRDG",
        "colab_type": "text"
      },
      "source": [
        "It looks like it guessed the 5 to be true in this case!  Let's evaluate the model's performance."
      ]
    },
    {
      "cell_type": "markdown",
      "metadata": {
        "id": "M62pr0sFH1Rp",
        "colab_type": "text"
      },
      "source": [
        "# Performance Measures\n",
        "\n",
        "Classifier performance is trickier than a regressor, so let's dive in!\n",
        "\n",
        "## Measuring Accuracy Using Cross-Validation\n",
        "\n",
        "We will use `cross_val_score()` to evaluate the SGDClassifier model, using K-fold cross-validation with three folds."
      ]
    },
    {
      "cell_type": "code",
      "metadata": {
        "id": "zqghYFNrG9TQ",
        "colab_type": "code",
        "outputId": "52b4bbbe-0247-4065-8d4c-73597574dfd6",
        "colab": {
          "base_uri": "https://localhost:8080/",
          "height": 34
        }
      },
      "source": [
        "from sklearn.model_selection import cross_val_score\n",
        "\n",
        "cross_val_score(sgd_clf, X_train, y_train_5, cv = 3, scoring = 'accuracy')"
      ],
      "execution_count": 0,
      "outputs": [
        {
          "output_type": "execute_result",
          "data": {
            "text/plain": [
              "array([0.95035, 0.96035, 0.9604 ])"
            ]
          },
          "metadata": {
            "tags": []
          },
          "execution_count": 11
        }
      ]
    },
    {
      "cell_type": "markdown",
      "metadata": {
        "id": "A0dNIPLbI_N3",
        "colab_type": "text"
      },
      "source": [
        "At first glance this looks amazing!  Every fold scored over 90% on all cross-validation folds.\n",
        "\n",
        "However, before we get too excited, let's look at a very dumb classifier that classifies every single image in the 'not-5' class:"
      ]
    },
    {
      "cell_type": "code",
      "metadata": {
        "id": "UW5X9shpIsUV",
        "colab_type": "code",
        "outputId": "0ad0bda2-04d5-4c50-a109-a9a103f7e5b1",
        "colab": {
          "base_uri": "https://localhost:8080/",
          "height": 34
        }
      },
      "source": [
        "from sklearn.base import BaseEstimator\n",
        "\n",
        "class Never5Classifier(BaseEstimator):\n",
        "  def fit(self, X, y = None):\n",
        "    pass\n",
        "  def predict(self, X):\n",
        "    return np.zeros((len(X), 1), dtype = bool)\n",
        "  \n",
        "never_5_clf = Never5Classifier()\n",
        "cross_val_score(never_5_clf, X_train, y_train_5, cv = 3, scoring = 'accuracy')"
      ],
      "execution_count": 0,
      "outputs": [
        {
          "output_type": "execute_result",
          "data": {
            "text/plain": [
              "array([0.91125, 0.90855, 0.90915])"
            ]
          },
          "metadata": {
            "tags": []
          },
          "execution_count": 12
        }
      ]
    },
    {
      "cell_type": "markdown",
      "metadata": {
        "id": "XnvTRxRqJ5Av",
        "colab_type": "text"
      },
      "source": [
        "Again, we have over 90% accuracy!  This is simply because only 10% of the images are 5s, so if you always guess that the image is not a 5, you will be right 90% of the time."
      ]
    },
    {
      "cell_type": "markdown",
      "metadata": {
        "id": "TSU5PPfXPWHA",
        "colab_type": "text"
      },
      "source": [
        "## Confusion Matrix\n",
        "\n",
        "A better way to evaluate the performance of a classifier is to look at the *confusion matrix*.  The general idea is to count the number of times instances of Class A are classified as class B.  For example, how many times did the classifier confuse the images of 5s with 3s?\n",
        "\n",
        "To compute this confusion matrix, we will first need a set of predictions so they can be compared to the actual targets.  To keep our test set untouched until the very end of the project, we will instead use the `cross_val_predict()` function:"
      ]
    },
    {
      "cell_type": "code",
      "metadata": {
        "id": "e66FF4vLJZAQ",
        "colab_type": "code",
        "colab": {}
      },
      "source": [
        "from sklearn.model_selection import cross_val_predict\n",
        "\n",
        "y_train_pred = cross_val_predict(sgd_clf, X_train, y_train_5, cv = 3)"
      ],
      "execution_count": 0,
      "outputs": []
    },
    {
      "cell_type": "markdown",
      "metadata": {
        "id": "_aUnxlGEQhhz",
        "colab_type": "text"
      },
      "source": [
        "Similar to the `cross_val_score()` function, `cross_val_predict()` performs K-fold cross-validation, but instead of returning the evaluation scores, it returns the predictions made on each test fold.  This means you get a clean (model never saw the data during training) prediction for each instance in the training set.\n",
        "\n",
        "Now let's get the `confusion_matrix()`."
      ]
    },
    {
      "cell_type": "code",
      "metadata": {
        "id": "Kbw1AZauQcfJ",
        "colab_type": "code",
        "outputId": "19ff86bb-da17-441b-f4ad-01137c86656b",
        "colab": {
          "base_uri": "https://localhost:8080/"
        }
      },
      "source": [
        "from sklearn.metrics import confusion_matrix\n",
        "\n",
        "confusion_matrix(y_train_5, y_train_pred)"
      ],
      "execution_count": 0,
      "outputs": [
        {
          "output_type": "execute_result",
          "data": {
            "text/plain": [
              "array([[53892,   687],\n",
              "       [ 1891,  3530]])"
            ]
          },
          "metadata": {
            "tags": []
          },
          "execution_count": 14
        }
      ]
    },
    {
      "cell_type": "markdown",
      "metadata": {
        "id": "8LD30c9qRdGW",
        "colab_type": "text"
      },
      "source": [
        "Each row represents an *actual* class (5s and non-5s), and each column represents a *predicted* class.\n",
        "\n",
        "The first row is the *negative class*.  53,892 were not 5 and correctly predicted as non-5s (true negatives).  687 were 5 but incorrectly predicted as non-5s (false positives).\n",
        "\n",
        "The second row is the *positive class*.  1,891 were wrongly classified as non-5s (false negatives), while 3,530 were correctly classified as 5s (true positives).\n",
        "\n",
        "A perfect classifer would only have true positives and true negatives as simulated below:"
      ]
    },
    {
      "cell_type": "code",
      "metadata": {
        "id": "hpQWKo1-RBUc",
        "colab_type": "code",
        "outputId": "73a65389-e118-4af5-a536-d962c6aa7201",
        "colab": {
          "base_uri": "https://localhost:8080/"
        }
      },
      "source": [
        "# pretend we predicted perfect 5s\n",
        "y_train_perfect_predictions = y_train_5\n",
        "confusion_matrix(y_train_5, y_train_perfect_predictions)"
      ],
      "execution_count": 0,
      "outputs": [
        {
          "output_type": "execute_result",
          "data": {
            "text/plain": [
              "array([[54579,     0],\n",
              "       [    0,  5421]])"
            ]
          },
          "metadata": {
            "tags": []
          },
          "execution_count": 15
        }
      ]
    },
    {
      "cell_type": "markdown",
      "metadata": {
        "id": "otqVP7jvS2ZG",
        "colab_type": "text"
      },
      "source": [
        "To get a more concise metric, we can look at the *precision* of the classifier:\n",
        "\n",
        "$precision = \\frac{TP}{TP+FP}$\n",
        "\n",
        "TP = number of true positives\n",
        "FP = number of false positives\n",
        "\n",
        "Precision is commonly used with another metric named *recall* aka *sensitivity* or *true positive rate* (TPR)\n",
        "\n",
        "$recall = \\frac{TP}{TP + FN}$\n",
        "\n",
        "FN = number of false negatives\n",
        "\n",
        "![](https://learning.oreilly.com/library/view/hands-on-machine-learning/9781492032632/assets/mls2_0302.png)"
      ]
    },
    {
      "cell_type": "markdown",
      "metadata": {
        "id": "xdKuAV6yT8J9",
        "colab_type": "text"
      },
      "source": [
        "## Precision and Recall\n",
        "\n",
        "Scikit-Learn provides several functions to help compute classifier metrics:"
      ]
    },
    {
      "cell_type": "code",
      "metadata": {
        "id": "Qt03KHUCRWmt",
        "colab_type": "code",
        "outputId": "29038fa9-4251-440c-cffc-36d44bae0c63",
        "colab": {
          "base_uri": "https://localhost:8080/"
        }
      },
      "source": [
        "from sklearn.metrics import precision_score, recall_score\n",
        "\n",
        "precision_score(y_train_5, y_train_pred)"
      ],
      "execution_count": 0,
      "outputs": [
        {
          "output_type": "execute_result",
          "data": {
            "text/plain": [
              "0.8370879772350012"
            ]
          },
          "metadata": {
            "tags": []
          },
          "execution_count": 16
        }
      ]
    },
    {
      "cell_type": "code",
      "metadata": {
        "id": "Xvxa5_BsUHNk",
        "colab_type": "code",
        "outputId": "e07bc8a6-2b4a-4fb3-b838-61272424161c",
        "colab": {
          "base_uri": "https://localhost:8080/"
        }
      },
      "source": [
        "recall_score(y_train_5, y_train_pred)"
      ],
      "execution_count": 0,
      "outputs": [
        {
          "output_type": "execute_result",
          "data": {
            "text/plain": [
              "0.6511713705958311"
            ]
          },
          "metadata": {
            "tags": []
          },
          "execution_count": 17
        }
      ]
    },
    {
      "cell_type": "markdown",
      "metadata": {
        "id": "b8OhUpN_UXWu",
        "colab_type": "text"
      },
      "source": [
        "When our classifier claims that an image represents a 5, it is correct 83% of the time.  It is only detecting 65% of the 5s.\n",
        "\n",
        "It is often convenient to combine precision and recall into a single metric called the F1score to simply compare two classifiers.\n",
        "\n",
        "The F1score is the *harmonic mean* of precision and recall.\n",
        "\n",
        "A harmoic mean gives much more weight to low values.  As a result, to get a high F1 score, both recall and precision must be high.\n",
        "\n",
        "$F_1 = \\frac{2}{\\frac{1}{precision}+\\frac{1}{recall}} = 2 * \\frac{precision * recall}{precision + recall} = \\frac{TP}{TP + \\frac{FN+FP}{2}}$"
      ]
    },
    {
      "cell_type": "code",
      "metadata": {
        "id": "kFTnZznNUV0b",
        "colab_type": "code",
        "outputId": "9f2af8eb-0523-4e2a-d4b1-4b8af2bf84b8",
        "colab": {
          "base_uri": "https://localhost:8080/"
        }
      },
      "source": [
        "from sklearn.metrics import f1_score\n",
        "\n",
        "# compute f1 score based on the labels vs the predictions\n",
        "f1_score(y_train_5, y_train_pred)"
      ],
      "execution_count": 0,
      "outputs": [
        {
          "output_type": "execute_result",
          "data": {
            "text/plain": [
              "0.7325171197343846"
            ]
          },
          "metadata": {
            "tags": []
          },
          "execution_count": 18
        }
      ]
    },
    {
      "cell_type": "markdown",
      "metadata": {
        "id": "wbkCGVBEoB_-",
        "colab_type": "text"
      },
      "source": [
        "The F1 score favors classifiers with similar precision and recall.  However, depending on your application you may only care about precision and in some other contexts you may really only care about recall.\n",
        "\n",
        "*e.g. a classifer to detect if videos are safe for kids, you want a classifer that rejects many good videos (low recall) in favor of keeping only safe ones (high precision).*\n",
        "\n",
        "*e.g. a classifer to detect shoplifters on surveillance images: 30% precision as long as it has 99% recall.  Their will be some false alerts but almost all shoplifters will get caught.*\n",
        "\n",
        "However, there is a tradeoff.  The *precision/recall trade-off* tells us that typically increasing precision reduces recall, and vice versa."
      ]
    },
    {
      "cell_type": "markdown",
      "metadata": {
        "id": "lke4v0sQo2Ij",
        "colab_type": "text"
      },
      "source": [
        "## Precision/Recall Trade-off\n",
        "\n",
        "The `SGDClassifer` makes its classification decision by computer a score based on a *decision function*.  If the score is greater than a threshhold, it assigns the instance to the positive class; otherwise it assigns it to the negative class.\n",
        "\n",
        "As you raise the threshold, the precision increases whiel the recall decreases.\n",
        "\n",
        "![](https://learning.oreilly.com/library/view/hands-on-machine-learning/9781492032632/assets/mls2_0303.png)\n",
        "\n",
        "Though Scikit-Learn doesn't let you set the threshold directly, you can access the decision scores it uses to make predictions."
      ]
    },
    {
      "cell_type": "code",
      "metadata": {
        "id": "0bA9A8slE-Ib",
        "colab_type": "code",
        "outputId": "cf2510b9-c90d-4164-9005-dc6d05469618",
        "colab": {
          "base_uri": "https://localhost:8080/",
          "height": 34
        }
      },
      "source": [
        "y_scores = sgd_clf.decision_function([some_digit])\n",
        "y_scores"
      ],
      "execution_count": 0,
      "outputs": [
        {
          "output_type": "execute_result",
          "data": {
            "text/plain": [
              "array([2164.22030239])"
            ]
          },
          "metadata": {
            "tags": []
          },
          "execution_count": 19
        }
      ]
    },
    {
      "cell_type": "code",
      "metadata": {
        "id": "Pv8sElOnFEHM",
        "colab_type": "code",
        "outputId": "91a5ef5a-b36f-4cdc-d246-38113579d62f",
        "colab": {
          "base_uri": "https://localhost:8080/",
          "height": 51
        }
      },
      "source": [
        "# default threshold for SGDClassifer is 0\n",
        "threshold = 0\n",
        "y_some_digit_pred = y_scores > threshold\n",
        "print(y_some_digit_pred)\n",
        "\n",
        "# artificially raising the threshold\n",
        "threshold = 8000\n",
        "y_some_digit_pred = y_scores > threshold\n",
        "print(y_some_digit_pred)"
      ],
      "execution_count": 0,
      "outputs": [
        {
          "output_type": "stream",
          "text": [
            "[ True]\n",
            "[False]\n"
          ],
          "name": "stdout"
        }
      ]
    },
    {
      "cell_type": "markdown",
      "metadata": {
        "id": "qHklvmWtFe9f",
        "colab_type": "text"
      },
      "source": [
        "If we raise the threshold to be 8,000 then the classifier misses the prediction, reducing it's recall.\n",
        "\n",
        "To determine the possible thresholds, we will use `cross_val_predict()` to get all of the scores.  Instead of returning the prediction, we will ask for a return of the decision scores."
      ]
    },
    {
      "cell_type": "code",
      "metadata": {
        "id": "LbudnZyiFJ5w",
        "colab_type": "code",
        "colab": {}
      },
      "source": [
        "y_scores = cross_val_predict(sgd_clf, X_train, y_train_5, cv = 3,\n",
        "                             method = 'decision_function')"
      ],
      "execution_count": 0,
      "outputs": []
    },
    {
      "cell_type": "markdown",
      "metadata": {
        "id": "8Eg5YIfSGdVY",
        "colab_type": "text"
      },
      "source": [
        "We can use the `precision_recall_curve()` to compute precision and recall for all possible thresholds."
      ]
    },
    {
      "cell_type": "code",
      "metadata": {
        "id": "3CfRGowRGWwD",
        "colab_type": "code",
        "colab": {}
      },
      "source": [
        "from sklearn.metrics import precision_recall_curve\n",
        "\n",
        "# for every threshold, return the precision and recall lines\n",
        "precisions, recalls, thresholds = precision_recall_curve(y_train_5, y_scores)"
      ],
      "execution_count": 0,
      "outputs": []
    },
    {
      "cell_type": "code",
      "metadata": {
        "id": "i9ej_5QVGo2Y",
        "colab_type": "code",
        "outputId": "1075090f-2bab-40f7-d000-7fde9d9e37db",
        "colab": {
          "base_uri": "https://localhost:8080/",
          "height": 288
        }
      },
      "source": [
        "def plot_precision_recall_vs_threshold(precisions, recalls, thresholds):\n",
        "  # plot lines\n",
        "  plt.plot(thresholds, precisions[:-1], 'b--', label = 'Precision', linewidth = 2)\n",
        "  plt.plot(thresholds, recalls[:-1], 'g-', label = 'Recall', linewidth = 2)\n",
        "  \n",
        "  # plot properties\n",
        "  plt.legend(loc=\"center right\", fontsize=16) \n",
        "  plt.xlabel(\"Threshold\", fontsize=16)        \n",
        "  plt.grid(True)                              \n",
        "  plt.axis([-50000, 50000, 0, 1])            \n",
        "\n",
        "plt.figure(figsize=(8, 4))                      \n",
        "plot_precision_recall_vs_threshold(precisions, recalls, thresholds)\n",
        "plt.show()"
      ],
      "execution_count": 0,
      "outputs": [
        {
          "output_type": "display_data",
          "data": {
            "image/png": "[encoded data removed]",
            "text/plain": [
              "<Figure size 576x288 with 1 Axes>"
            ]
          },
          "metadata": {
            "tags": []
          }
        }
      ]
    },
    {
      "cell_type": "markdown",
      "metadata": {
        "id": "-kJSfAI6JXyv",
        "colab_type": "text"
      },
      "source": [
        "We can also plot precision directly against recall to select a good precision/recall trade-off."
      ]
    },
    {
      "cell_type": "code",
      "metadata": {
        "id": "aa7lwSMEG4Qe",
        "colab_type": "code",
        "outputId": "f6754c40-5483-4f74-e971-191a1d7117cd",
        "colab": {
          "base_uri": "https://localhost:8080/",
          "height": 397
        }
      },
      "source": [
        "def plot_precision_vs_recall(precisions, recalls):\n",
        "    plt.plot(recalls, precisions, \"b-\", linewidth=2)\n",
        "    plt.xlabel(\"Recall\", fontsize=16)\n",
        "    plt.ylabel(\"Precision\", fontsize=16)\n",
        "    plt.axis([0, 1, 0, 1])\n",
        "    plt.grid(True)\n",
        "\n",
        "plt.figure(figsize=(8, 6))\n",
        "plot_precision_vs_recall(precisions, recalls)\n",
        "plt.plot([0.4368, 0.4368], [0., 0.9], \"r:\")\n",
        "plt.plot([0.0, 0.4368], [0.9, 0.9], \"r:\")\n",
        "plt.plot([0.4368], [0.9], \"ro\")\n",
        "plt.show()"
      ],
      "execution_count": 0,
      "outputs": [
        {
          "output_type": "display_data",
          "data": {
            "image/png": "[encoded data removed]",
            "text/plain": [
              "<Figure size 576x432 with 1 Axes>"
            ]
          },
          "metadata": {
            "tags": []
          }
        }
      ]
    },
    {
      "cell_type": "markdown",
      "metadata": {
        "id": "XoOUxm9aJy5W",
        "colab_type": "text"
      },
      "source": [
        "We notice that precision starts to fall sharply around 80% recall.  If you decide to aim for a 90% precision, you can see that the threshold will be around 8,000.\n",
        "\n",
        "To be more precise we can search for the lowest threshold that will give us at least 90% precision."
      ]
    },
    {
      "cell_type": "code",
      "metadata": {
        "id": "cz66YekbJp7W",
        "colab_type": "code",
        "colab": {}
      },
      "source": [
        "# return an array of precisions >= .90\n",
        "# give me the largest index\n",
        "# find the corresponding threshold at that index\n",
        "threshold_90_precision = thresholds[np.argmax(precisions >= .90)]"
      ],
      "execution_count": 0,
      "outputs": []
    },
    {
      "cell_type": "markdown",
      "metadata": {
        "id": "spmvQxMjKusg",
        "colab_type": "text"
      },
      "source": [
        "To make predictions on the training set, we can run this line:"
      ]
    },
    {
      "cell_type": "code",
      "metadata": {
        "id": "287VI42cKtTm",
        "colab_type": "code",
        "outputId": "7f4460e6-bce5-4eed-8cfe-a7a0d9378296",
        "colab": {
          "base_uri": "https://localhost:8080/",
          "height": 34
        }
      },
      "source": [
        "# return true or false based on the scores and our custom threshold\n",
        "y_train_pred_90 = (y_scores >= threshold_90_precision)\n",
        "\n",
        "# check precision\n",
        "precision_score(y_train_5, y_train_pred_90)"
      ],
      "execution_count": 0,
      "outputs": [
        {
          "output_type": "execute_result",
          "data": {
            "text/plain": [
              "0.9000345901072293"
            ]
          },
          "metadata": {
            "tags": []
          },
          "execution_count": 26
        }
      ]
    },
    {
      "cell_type": "code",
      "metadata": {
        "id": "drKnoH8ELZhQ",
        "colab_type": "code",
        "outputId": "a79f1103-5a56-4f1d-feea-f9692f48e10d",
        "colab": {
          "base_uri": "https://localhost:8080/",
          "height": 34
        }
      },
      "source": [
        "# check recall\n",
        "recall_score(y_train_5, y_train_pred_90)"
      ],
      "execution_count": 0,
      "outputs": [
        {
          "output_type": "execute_result",
          "data": {
            "text/plain": [
              "0.4799852425751706"
            ]
          },
          "metadata": {
            "tags": []
          },
          "execution_count": 27
        }
      ]
    },
    {
      "cell_type": "markdown",
      "metadata": {
        "id": "HgzccdfDLop6",
        "colab_type": "text"
      },
      "source": [
        "Great!  Now we have a 90% precision classifier!  However, as you can see it may not be very useful if the recall is too low."
      ]
    },
    {
      "cell_type": "markdown",
      "metadata": {
        "id": "veQ2BoeYLy-p",
        "colab_type": "text"
      },
      "source": [
        "## The ROC Curve\n",
        "\n",
        "The *receiving operating characterisctic* (ROC) is another common tool used with binary classifiers.  The ROC curve plots the *true positive rate* (recall) against the *false positive rate*.   The FPR is the ratio of negative instances that are incorrectly classified as positive.  It is equal to 1 - the *true negative rate*.\n",
        "\n",
        "The TNR is the ratio of negative instances that are correctly classified as negative.  The TNR is also called *specificity*.  The ROC curve plots *sensitivity* (recall) versus 1 - *specificity*.\n",
        "\n",
        "To plot the ROC curve, we can use the `roc_curve()` function to compute the TPR and FPR for various thresholds.  Then we can plot them in Matplotlib."
      ]
    },
    {
      "cell_type": "code",
      "metadata": {
        "id": "TFqWZTrVLkqV",
        "colab_type": "code",
        "outputId": "86e56198-c56f-4b40-a695-d4116d58de3d",
        "colab": {
          "base_uri": "https://localhost:8080/"
        }
      },
      "source": [
        "from sklearn.metrics import roc_curve\n",
        "\n",
        "# compute TPR, FPR and various thresholds\n",
        "fpr, tpr, thresholds = roc_curve(y_train_5, y_scores)\n",
        "\n",
        "def plot_roc_curve(fpr, tpr, label = 'None'):\n",
        "  plt.plot(fpr, tpr, linewidth = 2, label = label)\n",
        "  plt.plot([0, 1], [0, 1], 'k--')\n",
        "  plt.axis([0, 1, 0, 1])                                    # Not shown in the book\n",
        "  plt.xlabel('False Positive Rate (Fall-Out)', fontsize=16) # Not shown\n",
        "  plt.ylabel('True Positive Rate (Recall)', fontsize=16)    # Not shown\n",
        "  plt.grid(True)                                            # Not shown\n",
        "\n",
        "plt.figure(figsize=(8, 6))                         # Not shown\n",
        "plot_roc_curve(fpr, tpr)\n",
        "plt.plot([4.837e-3, 4.837e-3], [0., 0.4368], \"r:\") # Not shown\n",
        "plt.plot([0.0, 4.837e-3], [0.4368, 0.4368], \"r:\")  # Not shown\n",
        "plt.plot([4.837e-3], [0.4368], \"ro\")               # Not shown\n",
        "  \n",
        "plt.show()"
      ],
      "execution_count": 0,
      "outputs": [
        {
          "output_type": "display_data",
          "data": {
            "image/png": "[encoded data removed]",
            "text/plain": [
              "<Figure size 576x432 with 1 Axes>"
            ]
          },
          "metadata": {
            "tags": []
          }
        }
      ]
    },
    {
      "cell_type": "markdown",
      "metadata": {
        "id": "LKAMEu7fNqhk",
        "colab_type": "text"
      },
      "source": [
        "Again, we can see the trade-off between higher recall (TPR) and more false positives (FPR).  The dotted line represents the ROC curve of a purely random classifier, a good classifer moves towards the top-left corner.\n",
        "\n",
        "Another way to compare classifers is to measure the *area under the curve* (AUC).  A perfect classifer will have a ROC AUC equal to one.  A purely random classifier will have a ROC AUC equal to 0.5."
      ]
    },
    {
      "cell_type": "code",
      "metadata": {
        "id": "u2x4UqrsMzYH",
        "colab_type": "code",
        "outputId": "6c6fd0a4-666f-424a-ffdb-d021171686fe",
        "colab": {
          "base_uri": "https://localhost:8080/"
        }
      },
      "source": [
        "from sklearn.metrics import roc_auc_score\n",
        "\n",
        "# auc score based on our training set and our scores\n",
        "roc_auc_score(y_train_5, y_scores)"
      ],
      "execution_count": 0,
      "outputs": [
        {
          "output_type": "execute_result",
          "data": {
            "text/plain": [
              "0.9604938554008616"
            ]
          },
          "metadata": {
            "tags": []
          },
          "execution_count": 29
        }
      ]
    },
    {
      "cell_type": "markdown",
      "metadata": {
        "id": "g4jWrHZvOgU7",
        "colab_type": "text"
      },
      "source": [
        "TIP: Whenever the positive class is rare when you care more about the false positives than the false negatives, you should use a PR curve - otherwise use the ROC curve.\n",
        "\n",
        "Let's train a `RandomForestClassifer` and compare the ROC curve and ROC AUC score to the `SGDClassifer`.\n",
        "\n",
        "Since the `RandomForestClassifer` doesn't have a `decision_function()` method, we will have to use its `predict_proba()` method instead.\n",
        "\n",
        "The `predict_proba()` method returns an array containing a row per instance and a column per class, each containing the probability that the given instance belongs to the given class."
      ]
    },
    {
      "cell_type": "code",
      "metadata": {
        "id": "cbu8RV0ROVYc",
        "colab_type": "code",
        "outputId": "7f056d09-f3a5-42cc-ea57-1df135302c38",
        "colab": {
          "base_uri": "https://localhost:8080/"
        }
      },
      "source": [
        "from sklearn.ensemble import RandomForestClassifier\n",
        "\n",
        "# random forest classifier constructor\n",
        "forest_clf = RandomForestClassifier(random_state = 42)\n",
        "\n",
        "# return array of probabilities of each class\n",
        "y_probas_forest = cross_val_predict(forest_clf, X_train, y_train_5, cv = 3,\n",
        "                                    method = 'predict_proba')"
      ],
      "execution_count": 0,
      "outputs": [
        {
          "output_type": "stream",
          "text": [
            "/usr/local/lib/python3.6/dist-packages/sklearn/ensemble/forest.py:245: FutureWarning: The default value of n_estimators will change from 10 in version 0.20 to 100 in 0.22.\n",
            "  \"10 in version 0.20 to 100 in 0.22.\", FutureWarning)\n",
            "/usr/local/lib/python3.6/dist-packages/sklearn/ensemble/forest.py:245: FutureWarning: The default value of n_estimators will change from 10 in version 0.20 to 100 in 0.22.\n",
            "  \"10 in version 0.20 to 100 in 0.22.\", FutureWarning)\n",
            "/usr/local/lib/python3.6/dist-packages/sklearn/ensemble/forest.py:245: FutureWarning: The default value of n_estimators will change from 10 in version 0.20 to 100 in 0.22.\n",
            "  \"10 in version 0.20 to 100 in 0.22.\", FutureWarning)\n"
          ],
          "name": "stderr"
        }
      ]
    },
    {
      "cell_type": "markdown",
      "metadata": {
        "id": "5c9nxaQV-Dc8",
        "colab_type": "text"
      },
      "source": [
        "Since ROC curves need scores, while the `predict_probab()` method returns an array of probabilities, we can use the first column of probabilities as our score."
      ]
    },
    {
      "cell_type": "code",
      "metadata": {
        "id": "5jDTYKrK9j7r",
        "colab_type": "code",
        "outputId": "1a3198e4-0e12-4d87-e491-55c031805f08",
        "colab": {
          "base_uri": "https://localhost:8080/"
        }
      },
      "source": [
        "# use first column of probabilities as scores\n",
        "y_scores_forest = y_probas_forest[:, 1]\n",
        "\n",
        "# false positive rate, true positive rate, and threshold numbers\n",
        "fpr_forest, tpr_forest, thresholds_forest = roc_curve(y_train_5, y_scores_forest)\n",
        "\n",
        "# plot SGD and Random Forest ROC curves\n",
        "plt.plot(fpr, tpr, 'b:', label = 'SGD')\n",
        "plot_roc_curve(fpr_forest, tpr_forest, 'Random Forest')\n",
        "plt.legend(loc = 'lower right')\n",
        "plt.show()"
      ],
      "execution_count": 0,
      "outputs": [
        {
          "output_type": "display_data",
          "data": {
            "image/png": "[encoded data removed]",
            "text/plain": [
              "<Figure size 432x288 with 1 Axes>"
            ]
          },
          "metadata": {
            "tags": []
          }
        }
      ]
    },
    {
      "cell_type": "markdown",
      "metadata": {
        "id": "na7X8NmJ_Xqa",
        "colab_type": "text"
      },
      "source": [
        "The `RandomForestClassifier`'s ROC curve looks much better than the `SGDClassifer`'s.  Closer to the top left corner is better!\n",
        "\n",
        "Let's also check the ROC AUC score:"
      ]
    },
    {
      "cell_type": "code",
      "metadata": {
        "id": "5UaK2hKx-0oW",
        "colab_type": "code",
        "outputId": "ed6a72ee-3e11-4ead-93f2-bc5e798c1cc7",
        "colab": {
          "base_uri": "https://localhost:8080/"
        }
      },
      "source": [
        "# roc score\n",
        "roc_auc_score(y_train_5, y_scores_forest)"
      ],
      "execution_count": 0,
      "outputs": [
        {
          "output_type": "execute_result",
          "data": {
            "text/plain": [
              "0.9920527492698306"
            ]
          },
          "metadata": {
            "tags": []
          },
          "execution_count": 32
        }
      ]
    },
    {
      "cell_type": "code",
      "metadata": {
        "id": "TGjd06nx_uBQ",
        "colab_type": "code",
        "outputId": "9ee9f545-cf9a-464a-d68d-4651cdf60c59",
        "colab": {
          "base_uri": "https://localhost:8080/"
        }
      },
      "source": [
        "# predict the labels based on our classifier\n",
        "y_train_pred_forest = cross_val_predict(forest_clf, X_train, y_train_5, cv = 3)\n",
        "\n",
        "# precision score\n",
        "precision_score(y_train_5, y_train_pred_forest)"
      ],
      "execution_count": 0,
      "outputs": [
        {
          "output_type": "stream",
          "text": [
            "/usr/local/lib/python3.6/dist-packages/sklearn/ensemble/forest.py:245: FutureWarning: The default value of n_estimators will change from 10 in version 0.20 to 100 in 0.22.\n",
            "  \"10 in version 0.20 to 100 in 0.22.\", FutureWarning)\n",
            "/usr/local/lib/python3.6/dist-packages/sklearn/ensemble/forest.py:245: FutureWarning: The default value of n_estimators will change from 10 in version 0.20 to 100 in 0.22.\n",
            "  \"10 in version 0.20 to 100 in 0.22.\", FutureWarning)\n",
            "/usr/local/lib/python3.6/dist-packages/sklearn/ensemble/forest.py:245: FutureWarning: The default value of n_estimators will change from 10 in version 0.20 to 100 in 0.22.\n",
            "  \"10 in version 0.20 to 100 in 0.22.\", FutureWarning)\n"
          ],
          "name": "stderr"
        },
        {
          "output_type": "execute_result",
          "data": {
            "text/plain": [
              "0.986046511627907"
            ]
          },
          "metadata": {
            "tags": []
          },
          "execution_count": 33
        }
      ]
    },
    {
      "cell_type": "code",
      "metadata": {
        "id": "Mcm0cXl6_5KR",
        "colab_type": "code",
        "outputId": "914a7d0c-cebe-4b98-c621-a83d5f2f1092",
        "colab": {
          "base_uri": "https://localhost:8080/"
        }
      },
      "source": [
        "# recall score\n",
        "recall_score(y_train_5, y_train_pred_forest)"
      ],
      "execution_count": 0,
      "outputs": [
        {
          "output_type": "execute_result",
          "data": {
            "text/plain": [
              "0.8212506917542889"
            ]
          },
          "metadata": {
            "tags": []
          },
          "execution_count": 34
        }
      ]
    },
    {
      "cell_type": "markdown",
      "metadata": {
        "id": "Q9sr_iHgA61J",
        "colab_type": "text"
      },
      "source": [
        "So far we have learned how to:\n",
        "- Train binary classifiers\n",
        "- Choose the appropriate metric for our task\n",
        "- Evaluate classifiers using cross-validation\n",
        "- Select the precision/recall trade-off that fits our needs\n",
        "- Use ROC curves and ROC AUC scores to compare models\n",
        "\n",
        "Now, let's try to detect more than just 5s."
      ]
    },
    {
      "cell_type": "markdown",
      "metadata": {
        "id": "BrgGmq7zBYL_",
        "colab_type": "text"
      },
      "source": [
        "# Multiclass Classification\n",
        "\n",
        "Binary Classifiers:\n",
        "- Logistic Regression\n",
        "- Support Vector Machine\n",
        "\n",
        "Multiclass Classifiers (multinomial classifiers):\n",
        "- Stochastic Gradient Decent (SGD)\n",
        "- Random Forest\n",
        "- Naive Bayes\n",
        "\n",
        "There are various strategies to perform multiclass classification with multiple binary classifiers.\n",
        "\n",
        "*One-versus-all (one-versus-the-rest)*: We can train 10 binary classifiers, one for each digit and select the class where the classifier outputs the highest score.\n",
        "\n",
        "*One-versus-one*: You train a binary classifier for every pair of digit.  0s and 1s, 0s and 2s, 1s and 2s, etc.  For *N* classes, you will train *N x (N - 1) / 2* classifiers.  So for the MNIST problem, we will need to train 45 classifiers!\n",
        "\n",
        "Most binary classification algorithms prefer OvA.  However, for Support Vector Machine classifiers and other algorithms that scale poorly with the size of the training set, OvO is preferred as it is trained only on the smaller training subsets.\n",
        "\n",
        "Scikit-Learn detects when you try to use a binary classification algorithm for a multiclass classification task, and it automatically runs OvA or OvR, depending on the algorithm.\n",
        "\n",
        "Let's try this with a support vector machine classifier:"
      ]
    },
    {
      "cell_type": "code",
      "metadata": {
        "id": "1mlowxwpAiSK",
        "colab_type": "code",
        "outputId": "669fc39e-c075-49aa-a790-eb4c29faafdd",
        "colab": {
          "base_uri": "https://localhost:8080/",
          "height": 68
        }
      },
      "source": [
        "from sklearn.svm import SVC\n",
        "\n",
        "# support vector machine classifier constructor\n",
        "svm_clf = SVC(gamma = 'auto', verbose = 3, random_state = 42)\n",
        "\n",
        "# fit model to our training data\n",
        "start_time = time.time()\n",
        "print('Training begin at {:.2f}.'.format(start_time))\n",
        "svm_clf.fit(X_train[:1000], y_train[:1000])\n",
        "print('Training took {:.2f} seconds'.format(time.time() - start_time))\n",
        "\n",
        "# predict our first row\n",
        "svm_clf.predict([some_digit])"
      ],
      "execution_count": 0,
      "outputs": [
        {
          "output_type": "stream",
          "text": [
            "Training begin at 1565119240.12.\n",
            "[LibSVM]Training took 1.94 seconds\n"
          ],
          "name": "stdout"
        },
        {
          "output_type": "execute_result",
          "data": {
            "text/plain": [
              "array([5], dtype=uint8)"
            ]
          },
          "metadata": {
            "tags": []
          },
          "execution_count": 35
        }
      ]
    },
    {
      "cell_type": "markdown",
      "metadata": {
        "id": "42FRE6QXFgvd",
        "colab_type": "text"
      },
      "source": [
        "The above code trains the `SVC` on the training set using the original target classes from 0-9.  Then it makes a prediction.  Under the hood, Scikit-Learn is using the OvO strategy: it trained 45 binary classifiers, got their decision scores for each image, and selected the class that won the most duels.\n",
        "\n",
        "Let's call the `decision_function()` method to see the 10 scores per instance:"
      ]
    },
    {
      "cell_type": "code",
      "metadata": {
        "id": "KGH8kfHcFUJ8",
        "colab_type": "code",
        "outputId": "7574e98d-98d7-45c0-ecfa-50b26374063e",
        "colab": {
          "base_uri": "https://localhost:8080/",
          "height": 51
        }
      },
      "source": [
        "# view decision function\n",
        "some_digit_scores = svm_clf.decision_function([some_digit])\n",
        "some_digit_scores"
      ],
      "execution_count": 0,
      "outputs": [
        {
          "output_type": "execute_result",
          "data": {
            "text/plain": [
              "array([[ 2.81585438,  7.09167958,  3.82972099,  0.79365551,  5.8885703 ,\n",
              "         9.29718395,  1.79862509,  8.10392157, -0.228207  ,  4.83753243]])"
            ]
          },
          "metadata": {
            "tags": []
          },
          "execution_count": 36
        }
      ]
    },
    {
      "cell_type": "markdown",
      "metadata": {
        "id": "-jxq6voKQu6c",
        "colab_type": "text"
      },
      "source": [
        "Here we can see that the highest score is in the 6th position corresponding to the class 5."
      ]
    },
    {
      "cell_type": "code",
      "metadata": {
        "id": "a9Z_l0pBQ7Ny",
        "colab_type": "code",
        "outputId": "944c34c1-d04b-4892-aa62-90b5048bba94",
        "colab": {
          "base_uri": "https://localhost:8080/",
          "height": 34
        }
      },
      "source": [
        "np.argmax(some_digit_scores)"
      ],
      "execution_count": 0,
      "outputs": [
        {
          "output_type": "execute_result",
          "data": {
            "text/plain": [
              "5"
            ]
          },
          "metadata": {
            "tags": []
          },
          "execution_count": 37
        }
      ]
    },
    {
      "cell_type": "code",
      "metadata": {
        "id": "fCkqIiXKQ-8C",
        "colab_type": "code",
        "outputId": "e717cdb8-6a66-4a96-9566-b38ba44aee4f",
        "colab": {
          "base_uri": "https://localhost:8080/",
          "height": 34
        }
      },
      "source": [
        "svm_clf.classes_"
      ],
      "execution_count": 0,
      "outputs": [
        {
          "output_type": "execute_result",
          "data": {
            "text/plain": [
              "array([0, 1, 2, 3, 4, 5, 6, 7, 8, 9], dtype=uint8)"
            ]
          },
          "metadata": {
            "tags": []
          },
          "execution_count": 38
        }
      ]
    },
    {
      "cell_type": "markdown",
      "metadata": {
        "id": "WQo9Q5sJRHEf",
        "colab_type": "text"
      },
      "source": [
        "### Saving and Loading Models in Google Drive"
      ]
    },
    {
      "cell_type": "code",
      "metadata": {
        "id": "jV9pXbQ866MU",
        "colab_type": "code",
        "outputId": "2ea06d6d-ed79-444e-d945-21ad564b1862",
        "colab": {
          "base_uri": "https://localhost:8080/",
          "height": 34
        }
      },
      "source": [
        "# save model to Google Drive\n",
        "from google.colab import drive\n",
        "drive.mount('/content/drive', force_remount = True)\n",
        "\n",
        "working_directory = '/content/drive/My Drive/Colab Notebooks/'\n",
        "filename = 'mnist_svm.sav'\n",
        "\n",
        "pickle.dump(svm_clf, open(working_directory + filename, 'wb'))"
      ],
      "execution_count": 0,
      "outputs": [
        {
          "output_type": "stream",
          "text": [
            "Mounted at /content/drive\n"
          ],
          "name": "stdout"
        }
      ]
    },
    {
      "cell_type": "code",
      "metadata": {
        "id": "8RG84CWZF7Lk",
        "colab_type": "code",
        "colab": {}
      },
      "source": [
        "# load previous saved model\n",
        "infile = open(working_directory + filename, 'rb')\n",
        "f = pickle.load(infile)"
      ],
      "execution_count": 0,
      "outputs": []
    },
    {
      "cell_type": "markdown",
      "metadata": {
        "id": "zWmswxXqWQ2w",
        "colab_type": "text"
      },
      "source": [
        "To force Scikit-Learn to use one-versus-one or one-versus-all, we can use the `OneVsOneClassifier` or `OneVsRestClassifer` classes."
      ]
    },
    {
      "cell_type": "code",
      "metadata": {
        "id": "H3LV0qcSQIcc",
        "colab_type": "code",
        "outputId": "ffa5dc5f-5a47-42a4-e879-fe1da207db65",
        "colab": {
          "base_uri": "https://localhost:8080/",
          "height": 34
        }
      },
      "source": [
        "from sklearn.multiclass import OneVsRestClassifier\n",
        "\n",
        "# passing SVC through One Vs Rest Classifier\n",
        "ovr_clf = OneVsRestClassifier(SVC(gamma = 'auto', random_state = 42))\n",
        "ovr_clf.fit(X_train[:1000], y_train[:1000])\n",
        "ovr_clf.predict([some_digit])"
      ],
      "execution_count": 0,
      "outputs": [
        {
          "output_type": "execute_result",
          "data": {
            "text/plain": [
              "array([5], dtype=uint8)"
            ]
          },
          "metadata": {
            "tags": []
          },
          "execution_count": 41
        }
      ]
    },
    {
      "cell_type": "markdown",
      "metadata": {
        "id": "oq_m7TyCXaz6",
        "colab_type": "text"
      },
      "source": [
        "Training an `SGDClassifier` or `RandomForestClassifier` is just as easy:"
      ]
    },
    {
      "cell_type": "code",
      "metadata": {
        "id": "vSWFqnFOWxET",
        "colab_type": "code",
        "outputId": "bbd5ee4b-9f85-4b08-a2a3-99fcd8d49daf",
        "colab": {
          "base_uri": "https://localhost:8080/",
          "height": 34
        }
      },
      "source": [
        "# train SGDClassifier\n",
        "sgd_clf.fit(X_train, y_train)\n",
        "sgd_clf.predict([some_digit])"
      ],
      "execution_count": 0,
      "outputs": [
        {
          "output_type": "execute_result",
          "data": {
            "text/plain": [
              "array([3], dtype=uint8)"
            ]
          },
          "metadata": {
            "tags": []
          },
          "execution_count": 43
        }
      ]
    },
    {
      "cell_type": "markdown",
      "metadata": {
        "id": "tZlvCBHtXtx5",
        "colab_type": "text"
      },
      "source": [
        "SGD classifiers directly classify instances into multiple classes.  The `decision_function()` returns one value per class.  Let's take a look here:"
      ]
    },
    {
      "cell_type": "code",
      "metadata": {
        "id": "AIX2fN8-XtL2",
        "colab_type": "code",
        "outputId": "85d071dc-88e0-4757-9a17-75ae948c5e2f",
        "colab": {
          "base_uri": "https://localhost:8080/",
          "height": 85
        }
      },
      "source": [
        "sgd_clf.decision_function([some_digit])"
      ],
      "execution_count": 0,
      "outputs": [
        {
          "output_type": "execute_result",
          "data": {
            "text/plain": [
              "array([[-31893.03095419, -34419.69069632,  -9530.63950739,\n",
              "          1823.73154031, -22320.14822878,  -1385.80478895,\n",
              "        -26188.91070951, -16147.51323997,  -4604.35491274,\n",
              "        -12050.767298  ]])"
            ]
          },
          "metadata": {
            "tags": []
          },
          "execution_count": 44
        }
      ]
    },
    {
      "cell_type": "code",
      "metadata": {
        "id": "4k-CYB-0Zh36",
        "colab_type": "code",
        "outputId": "fe635d28-5469-4d67-854f-3783475201b5",
        "colab": {
          "base_uri": "https://localhost:8080/",
          "height": 34
        }
      },
      "source": [
        "cross_val_score(sgd_clf, X_train, y_train, cv = 3, scoring = 'accuracy')"
      ],
      "execution_count": 0,
      "outputs": [
        {
          "output_type": "execute_result",
          "data": {
            "text/plain": [
              "array([0.87082583, 0.87089354, 0.88628294])"
            ]
          },
          "metadata": {
            "tags": []
          },
          "execution_count": 47
        }
      ]
    },
    {
      "cell_type": "markdown",
      "metadata": {
        "id": "yKkAC-7UaUUb",
        "colab_type": "text"
      },
      "source": [
        "To increase our score, we can use a Standard Scaler as discussed in Chapter 2."
      ]
    },
    {
      "cell_type": "code",
      "metadata": {
        "id": "_KscYVx4Z2KU",
        "colab_type": "code",
        "outputId": "867e38d5-7738-4ce0-cfaa-ab29cb0e0fca",
        "colab": {
          "base_uri": "https://localhost:8080/",
          "height": 88
        }
      },
      "source": [
        "from sklearn.preprocessing import StandardScaler\n",
        "\n",
        "# standard scaler constructor\n",
        "scaler = StandardScaler()\n",
        "\n",
        "# standardize the inputs\n",
        "X_train_scaled = scaler.fit_transform(X_train.astype(np.float64))\n",
        "\n",
        "# accuracy score across 3 test folds\n",
        "cross_val_score(sgd_clf, X_train_scaled, y_train, cv = 3, scoring = 'accuracy')"
      ],
      "execution_count": 0,
      "outputs": [
        {
          "output_type": "stream",
          "text": [
            "/usr/local/lib/python3.6/dist-packages/sklearn/linear_model/stochastic_gradient.py:561: ConvergenceWarning: Maximum number of iteration reached before convergence. Consider increasing max_iter to improve the fit.\n",
            "  ConvergenceWarning)\n"
          ],
          "name": "stderr"
        },
        {
          "output_type": "execute_result",
          "data": {
            "text/plain": [
              "array([0.89957009, 0.89344467, 0.89963495])"
            ]
          },
          "metadata": {
            "tags": []
          },
          "execution_count": 48
        }
      ]
    },
    {
      "cell_type": "code",
      "metadata": {
        "id": "Ja2IWgsqgKkU",
        "colab_type": "code",
        "colab": {}
      },
      "source": [
        "filename = 'mnist_sgd.sav'\n",
        "pickle.dump(sgd_clf, open(working_directory + filename, 'wb'))"
      ],
      "execution_count": 0,
      "outputs": []
    },
    {
      "cell_type": "markdown",
      "metadata": {
        "id": "e5atljRPa2eT",
        "colab_type": "text"
      },
      "source": [
        "# Error Analysis\n",
        "\n",
        "In a typical project, we would follow the checklist as follows: \n",
        "- Explore data preparation options\n",
        "- Try multiple models\n",
        "- Shortlist the best models\n",
        "- Fine-tune the hyperparameters using `GridSearchCV`\n",
        "- And automate as much as possible\n",
        "\n",
        "From here, we will assume we have a promising model and are wanting to find ways to improve it.  One wasy is to analyze the type of errors it makes.\n",
        "\n",
        "We'll first look at the confusion matrix."
      ]
    },
    {
      "cell_type": "code",
      "metadata": {
        "id": "2MlwvbOjaxaW",
        "colab_type": "code",
        "outputId": "81d8d5bd-bc2b-482f-80de-3670ad0ed27b",
        "colab": {
          "base_uri": "https://localhost:8080/",
          "height": 241
        }
      },
      "source": [
        "# make predictions\n",
        "y_train_pred = cross_val_predict(sgd_clf, X_train_scaled, y_train, cv = 3)\n",
        "\n",
        "# view confusion matrix\n",
        "conf_mx = confusion_matrix(y_train, y_train_pred)\n",
        "conf_mx"
      ],
      "execution_count": 0,
      "outputs": [
        {
          "output_type": "stream",
          "text": [
            "/usr/local/lib/python3.6/dist-packages/sklearn/linear_model/stochastic_gradient.py:561: ConvergenceWarning: Maximum number of iteration reached before convergence. Consider increasing max_iter to improve the fit.\n",
            "  ConvergenceWarning)\n"
          ],
          "name": "stderr"
        },
        {
          "output_type": "execute_result",
          "data": {
            "text/plain": [
              "array([[5576,    0,   21,    6,    9,   43,   37,    6,  224,    1],\n",
              "       [   0, 6398,   38,   23,    4,   44,    4,    8,  213,   10],\n",
              "       [  26,   27, 5242,   90,   71,   26,   62,   36,  371,    7],\n",
              "       [  24,   17,  117, 5220,    2,  208,   28,   40,  405,   70],\n",
              "       [  12,   14,   48,   10, 5192,   10,   36,   26,  330,  164],\n",
              "       [  28,   15,   33,  166,   55, 4437,   76,   14,  538,   59],\n",
              "       [  30,   14,   41,    2,   43,   95, 5560,    4,  128,    1],\n",
              "       [  21,    9,   52,   27,   51,   12,    3, 5693,  188,  209],\n",
              "       [  17,   63,   46,   90,    3,  125,   25,   10, 5429,   43],\n",
              "       [  23,   18,   31,   66,  116,   32,    1,  179,  377, 5106]])"
            ]
          },
          "metadata": {
            "tags": []
          },
          "execution_count": 49
        }
      ]
    },
    {
      "cell_type": "markdown",
      "metadata": {
        "id": "k3Xu5al5bx_O",
        "colab_type": "text"
      },
      "source": [
        "Instead of just looking at the numbers, we will simplify the representation, by using Matplotlib's `matshow()` function."
      ]
    },
    {
      "cell_type": "code",
      "metadata": {
        "id": "0XqkHRnHbsZy",
        "colab_type": "code",
        "outputId": "556402d1-94ea-4487-8ae1-ee56d41a544c",
        "colab": {
          "base_uri": "https://localhost:8080/",
          "height": 275
        }
      },
      "source": [
        "plt.matshow(conf_mx, cmap = plt.cm.gray)\n",
        "plt.show()"
      ],
      "execution_count": 0,
      "outputs": [
        {
          "output_type": "display_data",
          "data": {
            "image/png": "[encoded data removed]",
            "text/plain": [
              "<Figure size 288x288 with 1 Axes>"
            ]
          },
          "metadata": {
            "tags": []
          }
        }
      ]
    },
    {
      "cell_type": "markdown",
      "metadata": {
        "id": "MXKaJKmjcEK0",
        "colab_type": "text"
      },
      "source": [
        "Since most of the images appear on the main diagonal, this means the model is correctly classifying the numbers.\n",
        "\n",
        "Since the 5s look a bit darker than the other digits, this could mean there are fewer 5s in the dataset or that the classifier does not perform well on 5s.\n",
        "\n",
        "Let's plot the errors.  We will divide each value in the confusion matrix by th e number of images in the corresponding class to compare error rates instead of absolute number of errors."
      ]
    },
    {
      "cell_type": "code",
      "metadata": {
        "id": "8ZIcuIlBcCWF",
        "colab_type": "code",
        "outputId": "31b3aae7-a993-4acc-a94a-03bcaef15e4c",
        "colab": {
          "base_uri": "https://localhost:8080/",
          "height": 187
        }
      },
      "source": [
        "# sum of all rows in confusion matrix\n",
        "row_sums = conf_mx.sum(axis = 1, keepdims = True)\n",
        "row_sums"
      ],
      "execution_count": 0,
      "outputs": [
        {
          "output_type": "execute_result",
          "data": {
            "text/plain": [
              "array([[5923],\n",
              "       [6742],\n",
              "       [5958],\n",
              "       [6131],\n",
              "       [5842],\n",
              "       [5421],\n",
              "       [5918],\n",
              "       [6265],\n",
              "       [5851],\n",
              "       [5949]])"
            ]
          },
          "metadata": {
            "tags": []
          },
          "execution_count": 55
        }
      ]
    },
    {
      "cell_type": "code",
      "metadata": {
        "id": "Jv0obTkIckbC",
        "colab_type": "code",
        "outputId": "d67838ac-8599-4d8a-c193-539854ca1d18",
        "colab": {
          "base_uri": "https://localhost:8080/",
          "height": 527
        }
      },
      "source": [
        "# normalize confusion matrix\n",
        "norm_conf_mx = conf_mx / row_sums\n",
        "norm_conf_mx"
      ],
      "execution_count": 0,
      "outputs": [
        {
          "output_type": "execute_result",
          "data": {
            "text/plain": [
              "array([[9.41414824e-01, 0.00000000e+00, 3.54550059e-03, 1.01300017e-03,\n",
              "        1.51950025e-03, 7.25983454e-03, 6.24683437e-03, 1.01300017e-03,\n",
              "        3.78186730e-02, 1.68833361e-04],\n",
              "       [0.00000000e+00, 9.48976565e-01, 5.63630970e-03, 3.41145061e-03,\n",
              "        5.93295758e-04, 6.52625334e-03, 5.93295758e-04, 1.18659152e-03,\n",
              "        3.15929991e-02, 1.48323939e-03],\n",
              "       [4.36388050e-03, 4.53172205e-03, 8.79825445e-01, 1.51057402e-02,\n",
              "        1.19167506e-02, 4.36388050e-03, 1.04061766e-02, 6.04229607e-03,\n",
              "        6.22692179e-02, 1.17489090e-03],\n",
              "       [3.91453270e-03, 2.77279400e-03, 1.90833469e-02, 8.51410863e-01,\n",
              "        3.26211059e-04, 3.39259501e-02, 4.56695482e-03, 6.52422117e-03,\n",
              "        6.60577394e-02, 1.14173870e-02],\n",
              "       [2.05409106e-03, 2.39643958e-03, 8.21636426e-03, 1.71174255e-03,\n",
              "        8.88736734e-01, 1.71174255e-03, 6.16227319e-03, 4.45053064e-03,\n",
              "        5.64875043e-02, 2.80725779e-02],\n",
              "       [5.16509869e-03, 2.76701716e-03, 6.08743774e-03, 3.06216565e-02,\n",
              "        1.01457296e-02, 8.18483675e-01, 1.40195536e-02, 2.58254935e-03,\n",
              "        9.92436820e-02, 1.08836008e-02],\n",
              "       [5.06928016e-03, 2.36566408e-03, 6.92801622e-03, 3.37952011e-04,\n",
              "        7.26596823e-03, 1.60527205e-02, 9.39506590e-01, 6.75904022e-04,\n",
              "        2.16289287e-02, 1.68976005e-04],\n",
              "       [3.35195531e-03, 1.43655227e-03, 8.30007981e-03, 4.30965682e-03,\n",
              "        8.14046289e-03, 1.91540303e-03, 4.78850758e-04, 9.08699122e-01,\n",
              "        3.00079808e-02, 3.33599362e-02],\n",
              "       [2.90548624e-03, 1.07673902e-02, 7.86190395e-03, 1.53819860e-02,\n",
              "        5.12732866e-04, 2.13638694e-02, 4.27277388e-03, 1.70910955e-03,\n",
              "        9.27875577e-01, 7.34917108e-03],\n",
              "       [3.86619600e-03, 3.02571861e-03, 5.21095983e-03, 1.10943016e-02,\n",
              "        1.94990755e-02, 5.37905530e-03, 1.68095478e-04, 3.00890906e-02,\n",
              "        6.33719953e-02, 8.58295512e-01]])"
            ]
          },
          "metadata": {
            "tags": []
          },
          "execution_count": 52
        }
      ]
    },
    {
      "cell_type": "code",
      "metadata": {
        "id": "pTqZnv9xcoyR",
        "colab_type": "code",
        "outputId": "0a5bf937-e858-4e1e-8f7c-78933aac0112",
        "colab": {
          "base_uri": "https://localhost:8080/",
          "height": 275
        }
      },
      "source": [
        "# fill diagonal to only show errors\n",
        "np.fill_diagonal(norm_conf_mx, 0)\n",
        "plt.matshow(norm_conf_mx, cmap = plt.cm.gray)\n",
        "plt.show()"
      ],
      "execution_count": 0,
      "outputs": [
        {
          "output_type": "display_data",
          "data": {
            "image/png": "[encoded data removed]",
            "text/plain": [
              "<Figure size 288x288 with 1 Axes>"
            ]
          },
          "metadata": {
            "tags": []
          }
        }
      ]
    },
    {
      "cell_type": "markdown",
      "metadata": {
        "id": "AA_0_Fm2qOyM",
        "colab_type": "text"
      },
      "source": [
        "Remember that rows are actual classes while columns are predicted classes.\n",
        "\n",
        "Actual 8s are correctly being classified as 8s, however other numbers are being misclassified as 8s.\n",
        "\n",
        "Analyzing the confusion matrix gives you insights on how to improve your classifier.  From this plot, we can see more effort should be spent on reducing the false 8s.\n",
        "\n",
        "We could do this by gathering more training data for digits that look like 8s (but are not) or we could engineer new features to help the classifier.  Or we could engineer other features to help certain patterns stand out more.\n",
        "\n",
        "Plotting individual errors can be a good way to gain ingihts on what the classifer is doing and why it is failing.\n",
        "\n",
        "Let's plot examples of the 3s and 5s:"
      ]
    },
    {
      "cell_type": "code",
      "metadata": {
        "id": "4eddSAKgri2N",
        "colab_type": "code",
        "colab": {}
      },
      "source": [
        "# provided function to plot digits\n",
        "def plot_digits(instances, images_per_row=10, **options):\n",
        "    size = 28\n",
        "    images_per_row = min(len(instances), images_per_row)\n",
        "    images = [instance.reshape(size,size) for instance in instances]\n",
        "    n_rows = (len(instances) - 1) // images_per_row + 1\n",
        "    row_images = []\n",
        "    n_empty = n_rows * images_per_row - len(instances)\n",
        "    images.append(np.zeros((size, size * n_empty)))\n",
        "    for row in range(n_rows):\n",
        "        rimages = images[row * images_per_row : (row + 1) * images_per_row]\n",
        "        row_images.append(np.concatenate(rimages, axis=1))\n",
        "    image = np.concatenate(row_images, axis=0)\n",
        "    plt.imshow(image, cmap = mpl.cm.binary, **options)\n",
        "    plt.axis(\"off\")"
      ],
      "execution_count": 0,
      "outputs": []
    },
    {
      "cell_type": "code",
      "metadata": {
        "id": "J4nSmR31p8iG",
        "colab_type": "code",
        "outputId": "64429857-d8a9-4ebc-9241-01c8d58d5c48",
        "colab": {
          "base_uri": "https://localhost:8080/",
          "height": 486
        }
      },
      "source": [
        "cl_a, cl_b = 3, 5\n",
        "X_aa = X_train[(y_train == cl_a) & (y_train_pred == cl_a)]\n",
        "X_ab = X_train[(y_train == cl_a) & (y_train_pred == cl_b)]\n",
        "X_ba = X_train[(y_train == cl_b) & (y_train_pred == cl_a)]\n",
        "X_bb = X_train[(y_train == cl_b) & (y_train_pred == cl_b)]\n",
        "\n",
        "plt.figure(figsize=(8,8))\n",
        "plt.subplot(221); plot_digits(X_aa[:25], images_per_row=5)\n",
        "plt.subplot(222); plot_digits(X_ab[:25], images_per_row=5)\n",
        "plt.subplot(223); plot_digits(X_ba[:25], images_per_row=5)\n",
        "plt.subplot(224); plot_digits(X_bb[:25], images_per_row=5)"
      ],
      "execution_count": 0,
      "outputs": [
        {
          "output_type": "display_data",
          "data": {
            "image/png": "[encoded data removed]",
            "text/plain": [
              "<Figure size 576x576 with 4 Axes>"
            ]
          },
          "metadata": {
            "tags": []
          }
        }
      ]
    },
    {
      "cell_type": "markdown",
      "metadata": {
        "id": "sSiGjZ8Ir1Wl",
        "colab_type": "text"
      },
      "source": [
        "The top left 3s are actual 3s classified as 3s, while the bottom left are actual 5s classified as 5s.\n",
        "\n",
        "The other sections are misclassified 3s and 5s.\n",
        "\n",
        "It looks like the classifier is sensitive to image shifting and rotation.  To reduce the 3/5 confusion, we could preprocess the images to ensure they are well centered and not too rotated."
      ]
    },
    {
      "cell_type": "markdown",
      "metadata": {
        "id": "Rx3eQPR_suJs",
        "colab_type": "text"
      },
      "source": [
        "# Multilabel Classification\n",
        "\n",
        "Sometimes you may want your classifier to output multiple classes for each instance.\n",
        "\n",
        "Let's look at a simple example:"
      ]
    },
    {
      "cell_type": "code",
      "metadata": {
        "id": "jerlQvoarbWu",
        "colab_type": "code",
        "outputId": "b0ee1dfe-a7cc-4739-cfe5-3d648ac69872",
        "colab": {
          "base_uri": "https://localhost:8080/",
          "height": 68
        }
      },
      "source": [
        "from sklearn.neighbors import KNeighborsClassifier\n",
        "\n",
        "# create a multilabel of numbers that are 7 or greater or odd\n",
        "y_train_large = (y_train >= 7)\n",
        "y_train_odd = (y_train % 2 == 1)\n",
        "y_multilabel = np.c_[y_train_large, y_train_odd]\n",
        "\n",
        "# fit the training data on the multilabel\n",
        "knn_clf = KNeighborsClassifier()\n",
        "knn_clf.fit(X_train, y_multilabel)"
      ],
      "execution_count": 0,
      "outputs": [
        {
          "output_type": "execute_result",
          "data": {
            "text/plain": [
              "KNeighborsClassifier(algorithm='auto', leaf_size=30, metric='minkowski',\n",
              "                     metric_params=None, n_jobs=None, n_neighbors=5, p=2,\n",
              "                     weights='uniform')"
            ]
          },
          "metadata": {
            "tags": []
          },
          "execution_count": 66
        }
      ]
    },
    {
      "cell_type": "code",
      "metadata": {
        "id": "6Fs-cMY0tx3w",
        "colab_type": "code",
        "outputId": "7b194a30-3809-4cad-d8ff-ad730d161936",
        "colab": {
          "base_uri": "https://localhost:8080/",
          "height": 34
        }
      },
      "source": [
        "knn_clf.predict([some_digit])"
      ],
      "execution_count": 0,
      "outputs": [
        {
          "output_type": "execute_result",
          "data": {
            "text/plain": [
              "array([[False,  True]])"
            ]
          },
          "metadata": {
            "tags": []
          },
          "execution_count": 67
        }
      ]
    },
    {
      "cell_type": "markdown",
      "metadata": {
        "id": "Sbru8W6outEc",
        "colab_type": "text"
      },
      "source": [
        "It gets it right!  The number 5 is not large but it is odd.\n",
        "\n",
        "Let's measure the F1 score for each individual label then compute the average score."
      ]
    },
    {
      "cell_type": "code",
      "metadata": {
        "id": "bwlD9svFt7EF",
        "colab_type": "code",
        "outputId": "619cf98e-38c1-4087-b106-338383f8c090",
        "colab": {
          "base_uri": "https://localhost:8080/",
          "height": 34
        }
      },
      "source": [
        "y_train_knn_pred = cross_val_predict(knn_clf, X_train_scaled, y_multilabel, cv = 3)\n",
        "f1_score(y_multilabel, y_train_knn_pred, average = 'macro')"
      ],
      "execution_count": 0,
      "outputs": [
        {
          "output_type": "execute_result",
          "data": {
            "text/plain": [
              "0.9613989329409902"
            ]
          },
          "metadata": {
            "tags": []
          },
          "execution_count": 68
        }
      ]
    },
    {
      "cell_type": "markdown",
      "metadata": {
        "id": "AlXgovr-vFe9",
        "colab_type": "text"
      },
      "source": [
        "This code assumes that all labels are equally important, which may not be the case.\n",
        "\n",
        "Suppose this was an image classifier and for the same picture Alice and Bob both appeared in the picture.\n",
        "\n",
        "However, if it was Alice's Google Photos account, she would care more about photos she is labeled in.\n",
        "\n",
        "One option to give more weight to a classifier's score is to label a weight equal to it's *support* (the number of instances with that target label).\n",
        "\n",
        "To do this, all we would have to do is to change `average = 'weighted`."
      ]
    },
    {
      "cell_type": "code",
      "metadata": {
        "id": "-Tn64gQOvE2G",
        "colab_type": "code",
        "colab": {}
      },
      "source": [
        "filename = 'mnist_knn.sav'\n",
        "pickle.dump(knn_clf, open(working_directory + filename, 'wb'))"
      ],
      "execution_count": 0,
      "outputs": []
    },
    {
      "cell_type": "markdown",
      "metadata": {
        "id": "qA-NUnvIxqtZ",
        "colab_type": "text"
      },
      "source": [
        "# Multioutput Classification\n",
        "\n",
        "*Multioutput-multiclass classification* or *multioutput classification* generalizes multilabel classification where each label can be a multiclass.  (i.e. it can have more than two possible values.)\n",
        "\n",
        "To illustrate this, we will build a system that removes noise from images.\n",
        "\n",
        "We will begin by creating a training and testing set by taking the MNIST images and adding noise to their pixel intensities with NumPy's `randint()` function.  The target images will be the original images:"
      ]
    },
    {
      "cell_type": "code",
      "metadata": {
        "id": "hTMTjYQFxhhs",
        "colab_type": "code",
        "colab": {}
      },
      "source": [
        "noise = np.random.randint(0, 100, (len(X_train), 784))\n",
        "X_train_mod = X_train + noise\n",
        "noise = np.random.randint(0, 100, (len(X_test), 784))\n",
        "X_test_mod = X_test + noise\n",
        "\n",
        "y_train_mod = X_train\n",
        "y_test_mod = X_test"
      ],
      "execution_count": 0,
      "outputs": []
    },
    {
      "cell_type": "code",
      "metadata": {
        "id": "YbIeBFpRyuW_",
        "colab_type": "code",
        "outputId": "f2011752-de4b-44d6-9121-95170617fe70",
        "colab": {
          "base_uri": "https://localhost:8080/",
          "height": 201
        }
      },
      "source": [
        "some_index = 0\n",
        "plt.subplot(121); plot_digit(X_test_mod[some_index])\n",
        "plt.subplot(122); plot_digit(y_test_mod[some_index])\n",
        "plt.show()"
      ],
      "execution_count": 0,
      "outputs": [
        {
          "output_type": "display_data",
          "data": {
            "image/png": "[encoded data removed]",
            "text/plain": [
              "<Figure size 432x288 with 2 Axes>"
            ]
          },
          "metadata": {
            "tags": []
          }
        }
      ]
    },
    {
      "cell_type": "code",
      "metadata": {
        "id": "sLEo3K-ey-6d",
        "colab_type": "code",
        "outputId": "6cdb5d7d-1449-4daa-bbdb-c76069623630",
        "colab": {
          "base_uri": "https://localhost:8080/",
          "height": 265
        }
      },
      "source": [
        "knn_clf.fit(X_train_mod, y_train_mod)\n",
        "clean_digit = knn_clf.predict([X_test_mod[some_index]])\n",
        "plot_digit(clean_digit)"
      ],
      "execution_count": 0,
      "outputs": [
        {
          "output_type": "display_data",
          "data": {
            "image/png": "[encoded data removed]",
            "text/plain": [
              "<Figure size 432x288 with 1 Axes>"
            ]
          },
          "metadata": {
            "tags": []
          }
        }
      ]
    },
    {
      "cell_type": "code",
      "metadata": {
        "id": "Dcw0qFtXAuhr",
        "colab_type": "code",
        "colab": {}
      },
      "source": [
        ""
      ],
      "execution_count": 0,
      "outputs": []
    }
  ]
}