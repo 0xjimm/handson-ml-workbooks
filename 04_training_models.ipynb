{
  "nbformat": 4,
  "nbformat_minor": 0,
  "metadata": {
    "colab": {
      "name": "04_training_models.ipynb",
      "version": "0.3.2",
      "provenance": [],
      "collapsed_sections": [],
      "include_colab_link": true
    },
    "kernelspec": {
      "name": "python3",
      "display_name": "Python 3"
    }
  },
  "cells": [
    {
      "cell_type": "markdown",
      "metadata": {
        "id": "view-in-github",
        "colab_type": "text"
      },
      "source": [
        "<a href=\"https://colab.research.google.com/github/lejimmy/handson-ml-workbooks/blob/master/04_training_models.ipynb\" target=\"_parent\"><img src=\"https://colab.research.google.com/assets/colab-badge.svg\" alt=\"Open In Colab\"/></a>"
      ]
    },
    {
      "cell_type": "markdown",
      "metadata": {
        "id": "VWrFx0cEhDG_",
        "colab_type": "text"
      },
      "source": [
        "# Chapter 4. Training Models\n",
        "\n",
        "So far, we have trained algorithsm mostly like black boxes.  We were able to optimize a regression system, improve a digit image classifier, and even built a spam classifier from scratch.\n",
        "\n",
        "However, having a good understanding of how things work underneath can help you quickly hone in on the appropriate model, the right training algorithm to use, and a good set of hyperparemeters for the task.\n",
        "\n",
        "Also, understanding what's under the hood can help you debug issues and perform error analysis more efficiently.\n",
        "\n",
        "In this chapter, we will look at the Linear Regression model and the two ways to train it:\n",
        "- A direct \"closed form\" equation that directly computes the model parameters that best fit the model\n",
        "- An iterative optimization approach, called gradient descent (GD) that tweaks the parameters to minimize the cost function over the training set.\n",
        "\n",
        "We will also look at polynomial regression, logistic regression, and softmax regression."
      ]
    },
    {
      "cell_type": "markdown",
      "metadata": {
        "id": "47UUXy6ZiQls",
        "colab_type": "text"
      },
      "source": [
        "# Linear Regression\n",
        "\n",
        "In general, a linear model makes a prediction by simply computing a weighted sum of the input features, plus a constant called the *bias term*.\n",
        "\n",
        "$\\hat{y} = \\theta_1 + \\theta_2x_1 + \\theta_2x_2 + ... + \\theta_nx_n$\n",
        "\n",
        "In this equation:\n",
        "- $\\hat{y}$ is the predicted value\n",
        "- *n* is the number of features\n",
        "- $x_i$ is the $i^{th}$ feature value\n",
        "- $\\theta_j$ is the $j^{th}$ model parameter (including the bias term $\\theta_0$ and the feature weights)\n",
        "\n",
        "This can be written much more concisely using a vectorized form:\n",
        "\n",
        "$\\hat{y} = h_\\theta(x) = \\theta \\cdot x$\n",
        "\n",
        "In this equation:\n",
        "- __$\\theta$__ is the model's *parameter vector*, containing the bias term $\\theta_0$ and the feature weights $\\theta_1$ to $\\theta_n$\n",
        "- __x__ is the instance's *feature vector*, containing $x_0$ to $x_n$, with $x_0$ always equal to 1.\n",
        "- $\\theta \\cdot x$ is the dot product of the vectors __$\\theta$__ and __x__, which is of course qual to $\\theta_1 + \\theta_2x_1 + \\theta_2x_2 + ... + \\theta_nx_n$.\n",
        "- $h_\\theta$ is the hypothesis function, using the model parameters $\\theta$\n",
        "\n",
        "To train a Linear Regression model, you need to find values of $\\theta$ that minimizes the Root Mean Square Error (RMSE).\n",
        "\n",
        "The MSE of a Linear Regression hypothesis $h_\\theta$ on a training set __X__ is calculated by:\n",
        "\n",
        "$MSE(X, h_\\theta) = \\frac{1}{m} \\sum_{i=1}^{m}(\\theta^Tx^i - y^i)^2$\n",
        "\n",
        "## The Normal Equation\n",
        "\n",
        "To find the value of $\\theta$ that minimizes the cost function, there is a *closed-form solution* that gives us the result directly.\n",
        "\n",
        "$\\hat{\\theta} = (X^T X)^{-1} X^T y$\n",
        "\n",
        "In this equation:\n",
        "- $\\hat{\\theta}$ is the value of $\\theta$ that minimzes the cost function\n",
        "- __y__ is the vector of target values containing $y^1$ to $y^m$\n",
        "\n",
        "Let's generate some linear-looking data to test this equation:"
      ]
    },
    {
      "cell_type": "code",
      "metadata": {
        "id": "8ohSgckoi-XR",
        "colab_type": "code",
        "colab": {}
      },
      "source": [
        "import numpy as np\n",
        "\n",
        "X = 2 * np.random.rand(100, 1)\n",
        "y = 4 + 3 * X + np.random.randn(100, 1)"
      ],
      "execution_count": 0,
      "outputs": []
    },
    {
      "cell_type": "code",
      "metadata": {
        "id": "SEyu1MpZll8p",
        "colab_type": "code",
        "outputId": "7872490f-9743-4a4c-c7b0-40151a1a84c1",
        "colab": {
          "base_uri": "https://localhost:8080/",
          "height": 294
        }
      },
      "source": [
        "import matplotlib as mpl\n",
        "import matplotlib.pyplot as plt\n",
        "mpl.rc('axes', labelsize=14)\n",
        "mpl.rc('xtick', labelsize=12)\n",
        "mpl.rc('ytick', labelsize=12)\n",
        "\n",
        "plt.plot(X, y, 'b.')\n",
        "plt.xlabel('$x_1$', fontsize = 18)\n",
        "plt.ylabel('$y$', rotation = 0, fontsize = 18)\n",
        "plt.axis([0, 2, 0, 15])\n",
        "plt.show()"
      ],
      "execution_count": 0,
      "outputs": [
        {
          "output_type": "display_data",
          "data": {
            "image/png": "[encoded data removed]",
            "text/plain": [
              "<Figure size 432x288 with 1 Axes>"
            ]
          },
          "metadata": {
            "tags": []
          }
        }
      ]
    },
    {
      "cell_type": "markdown",
      "metadata": {
        "id": "aoxfJ_FTmqW0",
        "colab_type": "text"
      },
      "source": [
        "Now let's compute $\\hat{\\theta}$ using the Normal Equation.\n",
        "\n",
        "We will use the `inv()` function from NumPy's Lienar Algebra module (`np.linalg`) to compute the inverse of a matrix and the `dot()` method for matrix multiplication."
      ]
    },
    {
      "cell_type": "code",
      "metadata": {
        "id": "xHn9o1Rxl3eu",
        "colab_type": "code",
        "outputId": "27c51ac9-945d-4150-dcf1-7a48b422dc6c",
        "colab": {
          "base_uri": "https://localhost:8080/",
          "height": 51
        }
      },
      "source": [
        "X_b = np.c_[np.ones((100, 1)), X]\n",
        "theta_best = np.linalg.inv(X_b.T.dot(X_b)).dot(X_b.T).dot(y)\n",
        "theta_best"
      ],
      "execution_count": 0,
      "outputs": [
        {
          "output_type": "execute_result",
          "data": {
            "text/plain": [
              "array([[4.13646939],\n",
              "       [2.91333205]])"
            ]
          },
          "metadata": {
            "tags": []
          },
          "execution_count": 3
        }
      ]
    },
    {
      "cell_type": "markdown",
      "metadata": {
        "id": "Wwc2Bto8E_Bc",
        "colab_type": "text"
      },
      "source": [
        "We would have hoped for $\\theta_0 = 4$ and $\\theta_1 = 3$ instead of $\\theta_0 = 3.83$ and $\\theta_1 = 3.13$.  We are close enough but the noise made it impossible to recover the exact parameters of the original function.\n",
        "\n",
        "Now we can make predictions using $\\hat{\\theta}$."
      ]
    },
    {
      "cell_type": "code",
      "metadata": {
        "id": "Mk7PtX9gnKM3",
        "colab_type": "code",
        "outputId": "afe39ccb-ea19-4e84-c1bf-709438004f08",
        "colab": {
          "base_uri": "https://localhost:8080/",
          "height": 51
        }
      },
      "source": [
        "# array of X values\n",
        "X_new = np.array([[0], [2]])\n",
        "X_new"
      ],
      "execution_count": 0,
      "outputs": [
        {
          "output_type": "execute_result",
          "data": {
            "text/plain": [
              "array([[0],\n",
              "       [2]])"
            ]
          },
          "metadata": {
            "tags": []
          },
          "execution_count": 4
        }
      ]
    },
    {
      "cell_type": "code",
      "metadata": {
        "id": "1VJTazFRFbz7",
        "colab_type": "code",
        "outputId": "b0676f07-a5ac-4047-e7df-8eaec51268ac",
        "colab": {
          "base_uri": "https://localhost:8080/",
          "height": 51
        }
      },
      "source": [
        "# add column of 1\n",
        "X_new_b = np.c_[np.ones((2, 1)), X_new]\n",
        "X_new_b"
      ],
      "execution_count": 0,
      "outputs": [
        {
          "output_type": "execute_result",
          "data": {
            "text/plain": [
              "array([[1., 0.],\n",
              "       [1., 2.]])"
            ]
          },
          "metadata": {
            "tags": []
          },
          "execution_count": 5
        }
      ]
    },
    {
      "cell_type": "code",
      "metadata": {
        "id": "iC-1W1p4Fqff",
        "colab_type": "code",
        "outputId": "e3ea4616-c23b-42f7-cde6-a51eb2f61e38",
        "colab": {
          "base_uri": "https://localhost:8080/",
          "height": 51
        }
      },
      "source": [
        "# use theta best to predict y values\n",
        "y_predict = X_new_b.dot(theta_best)\n",
        "y_predict"
      ],
      "execution_count": 0,
      "outputs": [
        {
          "output_type": "execute_result",
          "data": {
            "text/plain": [
              "array([[4.13646939],\n",
              "       [9.96313348]])"
            ]
          },
          "metadata": {
            "tags": []
          },
          "execution_count": 6
        }
      ]
    },
    {
      "cell_type": "code",
      "metadata": {
        "id": "zYVH-JDhF6pO",
        "colab_type": "code",
        "outputId": "9b2a4c1c-dd11-4ed0-eded-4d110aa8dfe7",
        "colab": {
          "base_uri": "https://localhost:8080/",
          "height": 272
        }
      },
      "source": [
        "# plot models prediction\n",
        "plt.plot(X_new, y_predict, 'r-')\n",
        "plt.plot(X, y, 'b.')\n",
        "plt.axis([0, 2, 0, 15])\n",
        "plt.show()"
      ],
      "execution_count": 0,
      "outputs": [
        {
          "output_type": "display_data",
          "data": {
            "image/png": "[encoded data removed]",
            "text/plain": [
              "<Figure size 432x288 with 1 Axes>"
            ]
          },
          "metadata": {
            "tags": []
          }
        }
      ]
    },
    {
      "cell_type": "markdown",
      "metadata": {
        "id": "tqk2onXNGg9T",
        "colab_type": "text"
      },
      "source": [
        "Now, let's use Scikit-Learn to perform linear regression:"
      ]
    },
    {
      "cell_type": "code",
      "metadata": {
        "id": "BdMZw69AGU4M",
        "colab_type": "code",
        "outputId": "79614f0a-9c30-4272-db48-e597db5c00b7",
        "colab": {
          "base_uri": "https://localhost:8080/",
          "height": 34
        }
      },
      "source": [
        "from sklearn.linear_model import LinearRegression\n",
        "\n",
        "# Linear Regression constructor\n",
        "lin_reg = LinearRegression()\n",
        "\n",
        "# fit the data\n",
        "lin_reg.fit(X, y)\n",
        "\n",
        "# intercept and coefficient attributes\n",
        "lin_reg.intercept_, lin_reg.coef_"
      ],
      "execution_count": 0,
      "outputs": [
        {
          "output_type": "execute_result",
          "data": {
            "text/plain": [
              "(array([4.13646939]), array([[2.91333205]]))"
            ]
          },
          "metadata": {
            "tags": []
          },
          "execution_count": 8
        }
      ]
    },
    {
      "cell_type": "code",
      "metadata": {
        "id": "g0FLAfXVG2fm",
        "colab_type": "code",
        "outputId": "82abcfc6-9a6f-49f1-9268-bdb21df83d48",
        "colab": {
          "base_uri": "https://localhost:8080/",
          "height": 51
        }
      },
      "source": [
        "# use model to predict new y values\n",
        "lin_reg.predict(X_new)"
      ],
      "execution_count": 0,
      "outputs": [
        {
          "output_type": "execute_result",
          "data": {
            "text/plain": [
              "array([[4.13646939],\n",
              "       [9.96313348]])"
            ]
          },
          "metadata": {
            "tags": []
          },
          "execution_count": 9
        }
      ]
    },
    {
      "cell_type": "markdown",
      "metadata": {
        "id": "H_a2sc0kG9rj",
        "colab_type": "text"
      },
      "source": [
        "We get the same answers as before!\n",
        "\n",
        "The `LinearRegression` class is based on the `scipy.linalg.lstsq()` \"least squares\" function which we can call directly:"
      ]
    },
    {
      "cell_type": "code",
      "metadata": {
        "id": "x24AJZKNG8Cf",
        "colab_type": "code",
        "outputId": "b6cb113f-9690-4cdf-c8bc-d6f7b93c044e",
        "colab": {
          "base_uri": "https://localhost:8080/",
          "height": 51
        }
      },
      "source": [
        "theta_best_svd, residuals, rank, s = np.linalg.lstsq(X_b, y, rcond = 1e-6)\n",
        "theta_best_svd"
      ],
      "execution_count": 0,
      "outputs": [
        {
          "output_type": "execute_result",
          "data": {
            "text/plain": [
              "array([[4.13646939],\n",
              "       [2.91333205]])"
            ]
          },
          "metadata": {
            "tags": []
          },
          "execution_count": 10
        }
      ]
    },
    {
      "cell_type": "markdown",
      "metadata": {
        "id": "sO85bBrwHfY0",
        "colab_type": "text"
      },
      "source": [
        "This function computes $\\hat{\\theta} = X^+ y$ where $X^+$ is the *psuedoinverse* of X (specifically the Moore-Penrose inverse).  We can use `np.linalg.pinv()` to compute the psuedoinverse directly:"
      ]
    },
    {
      "cell_type": "code",
      "metadata": {
        "id": "pzpQER2oHaO-",
        "colab_type": "code",
        "outputId": "d7a6be0e-d655-45b8-953d-d29bdfca2217",
        "colab": {
          "base_uri": "https://localhost:8080/",
          "height": 51
        }
      },
      "source": [
        "# psuedoinverse\n",
        "np.linalg.pinv(X_b).dot(y)"
      ],
      "execution_count": 0,
      "outputs": [
        {
          "output_type": "execute_result",
          "data": {
            "text/plain": [
              "array([[4.13646939],\n",
              "       [2.91333205]])"
            ]
          },
          "metadata": {
            "tags": []
          },
          "execution_count": 11
        }
      ]
    },
    {
      "cell_type": "markdown",
      "metadata": {
        "id": "4U0xbiw4H-rh",
        "colab_type": "text"
      },
      "source": [
        "In some instances, the Normal Equation may not work if $X^TX$ is not invertible.  This means that the equations are not linearly independent.\n",
        "\n",
        "However, the pseudoinverse is always defined.  This approach is more efficient than computing the Normal Equation."
      ]
    },
    {
      "cell_type": "markdown",
      "metadata": {
        "id": "gXJKUS03JCPt",
        "colab_type": "text"
      },
      "source": [
        "## Computational Complexity\n",
        "\n",
        "The Normal Equation computes the inverse of $X^TX$ which is an (*n*+1) x (*n*+1) matrix (where *n* is the number of features).\n",
        "\n",
        "The *computational complexity* of inverting such a matrix is typically about $O(n^{2.4})$ to $O(n^3)$, depending on the implementation.\n",
        "\n",
        "In other words, if you double the amount of features, you increase the computational time by 5.3 to 8 times.\n",
        "\n",
        "The *Singular Value Decomposition* (SVD) approach which uses the pseudoinverse in Scikit-Learn's `LinearRegression` class has a computational complexity of $O(n^2)*.  So if you double the number of features, you multiply the computational time by 4.\n",
        "\n",
        "__Warning: Both the Normal Equation and SVD appraoch get very slow when the number of features grow large (e.g. 100,000).  However, both are still linear with regard to the number of instances in the training set, so they can handle large training sets efficiently.__\n",
        "\n",
        "Now we will look at different ways to train a Linear Regression model which is better suited for cases where there are a large number of features or too many training instances to fit in memory."
      ]
    },
    {
      "cell_type": "markdown",
      "metadata": {
        "id": "4rkTLQsLMNBc",
        "colab_type": "text"
      },
      "source": [
        "# Gradient Descent\n",
        "\n",
        "*Gradient Descent* is a generic optimization algorithm capable of finding optimal solutions to awide range of problems.  The general idea is to tweak parameters iteratively in order to minimize a cost function.\n",
        "\n",
        "It measures the local gradient of the error function with regard to the parameter vector $\\theta$ and goes in the direction of descending gradient.  Once the gradient is zero, you've reached a minimum!\n",
        "\n",
        "You start by filling in random values of $\\theta$ and improve it gradually by attempting to decrease the cost function until you converge to a minimum.\n",
        "\n",
        "![](https://learning.oreilly.com/library/view/hands-on-machine-learning/9781492032632/assets/mls2_0403.png)"
      ]
    },
    {
      "cell_type": "markdown",
      "metadata": {
        "id": "3FVCxxuZMCH7",
        "colab_type": "text"
      },
      "source": [
        "An important parameter is the *learing rate* hyperparameter.  If the learning rate is too small, the algorithm will have to go through many iterations to converge.\n",
        "\n",
        "If the learning rate is too high, you might jump across the valley and end up causing divergence and never converging.\n",
        "\n",
        "Two challenges of Gradient Descent are irregular terrains that make convergence to the Global minimum difficult:\n",
        "\n",
        "![](https://learning.oreilly.com/library/view/hands-on-machine-learning/9781492032632/assets/mls2_0406.png)"
      ]
    },
    {
      "cell_type": "markdown",
      "metadata": {
        "id": "eH7Lv91-OC8R",
        "colab_type": "text"
      },
      "source": [
        "For a Linear Regression model, the MSE cost function is a *convex function*, which means if you pick any two points on the curve, the line segment joining them never crosses the curve.  Also, it is a continuous function where the slope does not change abrupty.  \n",
        "\n",
        "These two facts means that Gradient Descent is guaranteed to approach the global minimum (if you wait long enough and if the learning rate is not too high).\n",
        "\n",
        "When the features have the same scale, the Gradient Descent algorithm goes straight towards the minimum.\n",
        "\n",
        "When feature 1 has much smaller values than feature 2, the Gradient Descent algorithm moves orthogonal to the global minimum and ends with a long march down an almost flat valley.\n",
        "\n",
        "![](https://learning.oreilly.com/library/view/hands-on-machine-learning/9781492032632/assets/mls2_0407.png)\n",
        "\n",
        "__Warning: When using Gradient Descent, you should ensure all features have a similar scale by using Scikit-Learn's `StandarScaler` class, else it will take much longer to converge.__"
      ]
    },
    {
      "cell_type": "markdown",
      "metadata": {
        "id": "DmZgWcfvPjVt",
        "colab_type": "text"
      },
      "source": [
        "## Batch Gradient Descent\n",
        "\n",
        "To implement Gradient Descent, we will compute the gradient of the cost function with regard to each model parameter $\\theta_j$.\n",
        "\n",
        "We will need to calculate how much the cost function will change if we change $\\theta_j$ just a little bit.\n",
        "\n",
        "We compute the partial derivative of the cost function with regard to parameter $\\theta_j$, noted $\\frac{\\delta}{\\delta\\theta_j}MSE(\\theta)$.\n",
        "\n",
        "Instead of computing the partial derivatives for each feature individually, we can compute them all in one go using the gradient vector $\\triangledown MSE(\\theta)$, which contains all the partial derivatives of the cost function.\n",
        "\n",
        "$\\triangledown_\\theta MSE(\\theta) = \\begin{pmatrix} \\frac{\\delta}{\\delta\\theta_0}MSE(\\theta) \\\\ \\frac{\\delta}{\\delta\\theta_1}MSE(\\theta) \\\\ \\vdots \\\\ \\frac{\\delta}{\\delta\\theta_n}MSE(\\theta)\\end{pmatrix}= \\frac{2}{m} X^T (X \\theta - y)$ \n",
        "\n",
        "Where:\n",
        "- m = number of training examples\n",
        "\n",
        "__Warning: The formula involves calculations over the full training set X, at each Gradient Descent step.  As a result, it is terribly slow on very large training sets.  However, training a Linear Regression model with hundreds of thousdands of features is much fater using Gradient descent vs. the Normal Equation or SVD decomposition.__\n",
        "\n",
        "Once you have the gradient vector, which points uphill, go in the opposite direction to go downhill.  The learning rate $\\eta$ is multiplied by the gradient vector to determine the size of the downhill step.\n",
        "\n",
        "$\\theta^{(next step)} = \\theta - \\eta \\triangledown_\\theta MSE(\\theta)$\n",
        "\n",
        "Let's implement this algorithm:"
      ]
    },
    {
      "cell_type": "code",
      "metadata": {
        "id": "QJfamn74NqEa",
        "colab_type": "code",
        "colab": {}
      },
      "source": [
        "# learning rate\n",
        "eta = 0.1\n",
        "\n",
        "# number of iterations\n",
        "n_iterations = 1000\n",
        "\n",
        "# number of training examples\n",
        "m = 100\n",
        "\n",
        "# random initialization\n",
        "theta = np.random.randn(2, 1)\n",
        "\n",
        "# gradient descent\n",
        "for iteration in range(n_iterations):\n",
        "  gradients = 2/m * X_b.T.dot(X_b.dot(theta) - y)\n",
        "  theta = theta - eta * gradients"
      ],
      "execution_count": 0,
      "outputs": []
    },
    {
      "cell_type": "code",
      "metadata": {
        "id": "Xm5_8icObwsz",
        "colab_type": "code",
        "outputId": "773f287b-9726-4d9b-d24a-6a0caafc5457",
        "colab": {
          "base_uri": "https://localhost:8080/",
          "height": 51
        }
      },
      "source": [
        "theta"
      ],
      "execution_count": 0,
      "outputs": [
        {
          "output_type": "execute_result",
          "data": {
            "text/plain": [
              "array([[4.13646939],\n",
              "       [2.91333205]])"
            ]
          },
          "metadata": {
            "tags": []
          },
          "execution_count": 13
        }
      ]
    },
    {
      "cell_type": "markdown",
      "metadata": {
        "id": "FGPbtVFXc_Ml",
        "colab_type": "text"
      },
      "source": [
        "Perfect this is exactly what the Normal Equation found!  Gradient Descent worked perfectly.\n",
        "\n",
        "If we had different learning rates of `eta` here is what would have happened in the first 10 steps:\n",
        "\n",
        "![](https://learning.oreilly.com/library/view/hands-on-machine-learning/9781492032632/assets/mls2_0408.png)"
      ]
    },
    {
      "cell_type": "markdown",
      "metadata": {
        "id": "WUVlGAm4dQkr",
        "colab_type": "text"
      },
      "source": [
        "On the left, the learning rate is too low.  It will reach the solution but it will take a long time.  On the right, the learning rate is too high, the algorithm diverges further and further away from the solution.\n",
        "\n",
        "To find a good learning rate, you can use grid search from Chapter 2.\n",
        "\n",
        "To find a good number of iterations, set a very large number of iterations but interrupt the algorithm when the gradient vector becomes tiny - when its norm becomes smaller than a tiny number $\\epsilon$ (called the *tolerance*).  This happens when Gradient Descent has almost reached the minimum.\n",
        "\n",
        "## Stochastic Gradient Descent\n",
        "\n",
        "The main problem with Batch Gradient Descent is that it used the whole training set to compute the gradients at each step, which can be very slow when the training set is large.\n",
        "\n",
        "At the other extreme, *Stochastic Gradient Descent* picks a random instnace in the training set at every step and computes the gradients based on that single instance.  This is much faster since it only has a single instance to compute.\n",
        "\n",
        "However, since it is random, the cost function bounces up and down, decreasing only on average.  Over time it will end up very close to the minimum but never converge.  The final parameter values are good, but not optimal.\n",
        "\n",
        "![](https://learning.oreilly.com/library/view/hands-on-machine-learning/9781492032632/assets/mls2_0409.png)\n",
        "\n",
        "When the cost function is irregular, it can help the algorithm jump out of local mimima and have a better chance of finding the global minimum.\n",
        "\n",
        "One way to deal with the algorithm never settling is to gradually reduce the learning rate.  This is similar to *simulated annealing* where molten metal is slowly cooled down.\n",
        "\n",
        "The function that determines the learning rate at each iteration is called the *learning schedule*.\n",
        "\n",
        "Let's implement the Stochastic Gradient Descent using a simple learning schedule:"
      ]
    },
    {
      "cell_type": "code",
      "metadata": {
        "id": "rx1LaS-qcQk1",
        "colab_type": "code",
        "colab": {}
      },
      "source": [
        "# epoch: rounds of m iterations\n",
        "n_epochs = 50\n",
        "\n",
        "# learning schedule hyperparameters\n",
        "t0, t1 = 5, 50\n",
        "\n",
        "# learning schedule\n",
        "def learning_schedule(t):\n",
        "  return t0 / (t + t1)\n",
        "\n",
        "# random initialization\n",
        "theta = np.random.randn(2, 1)\n",
        "\n",
        "for epoch in range(n_epochs):\n",
        "  for i in range(m):\n",
        "\n",
        "    # random instance from training data\n",
        "    random_index = np.random.randint(m)\n",
        "    xi = X_b[random_index:random_index+1]\n",
        "    yi = y[random_index:random_index+1]\n",
        "    \n",
        "    # compute gradients\n",
        "    gradients = 2 * xi.T.dot(xi.dot(theta) - yi)\n",
        "\n",
        "    # simulated annealing\n",
        "    eta = learning_schedule(epoch * m + i)\n",
        "\n",
        "    # next step\n",
        "    theta = theta - eta * gradients"
      ],
      "execution_count": 0,
      "outputs": []
    },
    {
      "cell_type": "code",
      "metadata": {
        "id": "MlRIDO1Ejmnl",
        "colab_type": "code",
        "outputId": "b0c8cf72-e27a-477d-e5b3-763115176bb8",
        "colab": {
          "base_uri": "https://localhost:8080/",
          "height": 51
        }
      },
      "source": [
        "theta"
      ],
      "execution_count": 0,
      "outputs": [
        {
          "output_type": "execute_result",
          "data": {
            "text/plain": [
              "array([[4.12378229],\n",
              "       [2.95044012]])"
            ]
          },
          "metadata": {
            "tags": []
          },
          "execution_count": 15
        }
      ]
    },
    {
      "cell_type": "markdown",
      "metadata": {
        "id": "RgdrE8l9j51s",
        "colab_type": "text"
      },
      "source": [
        "While the Batch Gradient Descent code iterated 1,000 times through the whole training set, this code only goes through the training set 50 times and reached a pretty good solution.\n",
        "\n",
        "Because the instances are picked at random, some instances may be picked several times, while others are not picked at all.\n",
        "\n",
        "To ensure the algorithm uses every instance, we can shuffle the training set and go through each instance, shuffle the set, etc.  However, this approach will converge more slowly.\n",
        "\n",
        "To perform Linear Regressing using SGD with Scikit-Learn, we will use the `SGDRegressor` class.\n",
        "\n",
        "The following code runs for 1,000 epochs or until the loss drops to less than 0.001 during one epoch. (`max_iter = 1000, tol = 1e-3).  It starts with a learning rate of 0.1 (`eta0 = 0.1`), using the default learning schedule."
      ]
    },
    {
      "cell_type": "code",
      "metadata": {
        "id": "ivz_KwN-jnxi",
        "colab_type": "code",
        "outputId": "dfacc072-e4ef-4390-8ae5-1fb9f549a86b",
        "colab": {
          "base_uri": "https://localhost:8080/",
          "height": 119
        }
      },
      "source": [
        "from sklearn.linear_model import SGDRegressor\n",
        "sgd_reg = SGDRegressor(max_iter = 1000, tol = 1e-3, penalty = None, eta0 = 0.1)\n",
        "sgd_reg.fit(X, y.ravel())"
      ],
      "execution_count": 0,
      "outputs": [
        {
          "output_type": "execute_result",
          "data": {
            "text/plain": [
              "SGDRegressor(alpha=0.0001, average=False, early_stopping=False, epsilon=0.1,\n",
              "             eta0=0.1, fit_intercept=True, l1_ratio=0.15,\n",
              "             learning_rate='invscaling', loss='squared_loss', max_iter=1000,\n",
              "             n_iter_no_change=5, penalty=None, power_t=0.25, random_state=None,\n",
              "             shuffle=True, tol=0.001, validation_fraction=0.1, verbose=0,\n",
              "             warm_start=False)"
            ]
          },
          "metadata": {
            "tags": []
          },
          "execution_count": 16
        }
      ]
    },
    {
      "cell_type": "code",
      "metadata": {
        "id": "r6pdONp4vHrT",
        "colab_type": "code",
        "outputId": "d8d06087-235d-4774-fa4e-de1ca3ffb8e3",
        "colab": {
          "base_uri": "https://localhost:8080/",
          "height": 34
        }
      },
      "source": [
        "sgd_reg.intercept_, sgd_reg.coef_"
      ],
      "execution_count": 0,
      "outputs": [
        {
          "output_type": "execute_result",
          "data": {
            "text/plain": [
              "(array([4.06922972]), array([2.85800728]))"
            ]
          },
          "metadata": {
            "tags": []
          },
          "execution_count": 17
        }
      ]
    },
    {
      "cell_type": "markdown",
      "metadata": {
        "id": "Pd-3MsWZvUmv",
        "colab_type": "text"
      },
      "source": [
        "Again, we find a solution quite close to the one returned from the Normal Equation."
      ]
    },
    {
      "cell_type": "markdown",
      "metadata": {
        "id": "Iy3L545rvZEb",
        "colab_type": "text"
      },
      "source": [
        "## Mini-batch Gradient Descent\n",
        "\n",
        "Instead of computing the gradient on the entire training set or a random instance, *Mini-batch Gradient Descent* computes the gradients on small random sets of instances called *mini-batches*.  The main advantage of using Mini-batch over Stochastic GD is that you can get a performance boost from hardware optimization of matrix operations when using GPUs.\n",
        "\n",
        "This algorithm is less erratic than SGD, so it will end up a bit closer to the minimum than SGD.  However, it may be harder to escape local minima.\n",
        "\n",
        "![](https://learning.oreilly.com/library/view/hands-on-machine-learning/9781492032632/assets/mls2_0411.png)\n",
        "\n",
        "Summary of our algorithms for Linear Regression so far:\n",
        "\n",
        "$\\begin{array}{lllllll}\n",
        "Algorithm       & Large m & Out-of-core support & Large n & Hyperparams     & Scaling required & Scikit-Learn     \\\\\n",
        "Normal Equation & Fast    & No                  & Slow    & 0               & No               & n/a              \\\\\n",
        "SVD             & Fast    & No                  & Slow    & 0               & No               & LinearRegression \\\\\n",
        "Batch GD        & Slow    & No                  & Fast    & 2               & Yes              & SGDRegressor     \\\\\n",
        "Stochastic GD   & Fast    & Yes                 & Fast    & >2 & Yes              & SGDRegressor     \\\\\n",
        "Mini-batch GD   & Fast    & Yes                 & Fast    & >2 & Yes              & SGDRegressor    \n",
        "\\end{array}$\n",
        "\n",
        "__Note: After training, there is almost no difference.  All algorithms have ended up with very similar models and make predictions in exactly the same way.__"
      ]
    },
    {
      "cell_type": "markdown",
      "metadata": {
        "id": "0ESXtYqUytg_",
        "colab_type": "text"
      },
      "source": [
        "# Polynomial Regression\n",
        "\n",
        "What if the data is more complex than a straight line?  We can still use a linear model to fit nonlinear data.\n",
        "\n",
        "One way to do this is to add powers of each feature as new features, then train a linear model on this extended set of features.  This is called *Polynomial Regression*.\n",
        "\n",
        "Let's look at a a simple *quadratic equation* plus some noise:"
      ]
    },
    {
      "cell_type": "code",
      "metadata": {
        "id": "mzoiCzEGvTYL",
        "colab_type": "code",
        "colab": {}
      },
      "source": [
        "import numpy.random as rnd\n",
        "np.random.seed(42)\n",
        "\n",
        "# number of training points\n",
        "m = 100\n",
        "\n",
        "# random numbers between -3 and 3\n",
        "X = 6 * np.random.rand(m, 1) - 3\n",
        "\n",
        "# y = 0.5 x^2 + x + 2 + noise\n",
        "y = 0.5 * X**2 + X + 2 + np.random.randn(m, 1)"
      ],
      "execution_count": 0,
      "outputs": []
    },
    {
      "cell_type": "code",
      "metadata": {
        "id": "tC4w0EwjzQj3",
        "colab_type": "code",
        "outputId": "fdbfc3b8-4ad6-4efc-9208-8941d14a3d48",
        "colab": {
          "base_uri": "https://localhost:8080/",
          "height": 297
        }
      },
      "source": [
        "plt.plot(X, y, 'b.')\n",
        "plt.xlabel('$X_1$', fontsize = 18)\n",
        "plt.ylabel('$y$', rotation = 0, fontsize = 18)\n",
        "plt.axis([-3, 3, 0, 10])\n",
        "plt.show()"
      ],
      "execution_count": 0,
      "outputs": [
        {
          "output_type": "display_data",
          "data": {
            "image/png": "[encoded data removed]",
            "text/plain": [
              "<Figure size 432x288 with 1 Axes>"
            ]
          },
          "metadata": {
            "tags": []
          }
        }
      ]
    },
    {
      "cell_type": "markdown",
      "metadata": {
        "id": "U_a2pqlc0Xd6",
        "colab_type": "text"
      },
      "source": [
        "We can use Scikit-Learn's `PolynomialFeatures` class to transform our training data, adding the square (second-degree polynomial) of each feature in the training set as new features:"
      ]
    },
    {
      "cell_type": "code",
      "metadata": {
        "id": "22YGK6M0zVY7",
        "colab_type": "code",
        "outputId": "6a73660d-c58b-4246-8d03-1553e9941220",
        "colab": {
          "base_uri": "https://localhost:8080/",
          "height": 34
        }
      },
      "source": [
        "from sklearn.preprocessing import PolynomialFeatures\n",
        "poly_features = PolynomialFeatures(degree = 2, include_bias = False)\n",
        "X_poly = poly_features.fit_transform(X)\n",
        "X[0]"
      ],
      "execution_count": 0,
      "outputs": [
        {
          "output_type": "execute_result",
          "data": {
            "text/plain": [
              "array([-0.75275929])"
            ]
          },
          "metadata": {
            "tags": []
          },
          "execution_count": 20
        }
      ]
    },
    {
      "cell_type": "code",
      "metadata": {
        "id": "nwsE_TcP0uLq",
        "colab_type": "code",
        "outputId": "05ae5ef7-5f80-4e15-947c-fa0ff4031c8d",
        "colab": {
          "base_uri": "https://localhost:8080/",
          "height": 34
        }
      },
      "source": [
        "X_poly[0]"
      ],
      "execution_count": 0,
      "outputs": [
        {
          "output_type": "execute_result",
          "data": {
            "text/plain": [
              "array([-0.75275929,  0.56664654])"
            ]
          },
          "metadata": {
            "tags": []
          },
          "execution_count": 21
        }
      ]
    },
    {
      "cell_type": "markdown",
      "metadata": {
        "id": "LHiJcT2i0z6p",
        "colab_type": "text"
      },
      "source": [
        "`X_poly` now contains the original features of X plus the square of this feature.  Now you can fit a `LinearRegression` model to this extended training data:"
      ]
    },
    {
      "cell_type": "code",
      "metadata": {
        "id": "kg91tikY0xmm",
        "colab_type": "code",
        "outputId": "6670586b-52bb-4402-daa1-3138242da17f",
        "colab": {
          "base_uri": "https://localhost:8080/",
          "height": 34
        }
      },
      "source": [
        "lin_reg = LinearRegression()\n",
        "lin_reg.fit(X_poly, y)\n",
        "lin_reg.intercept_, lin_reg.coef_"
      ],
      "execution_count": 0,
      "outputs": [
        {
          "output_type": "execute_result",
          "data": {
            "text/plain": [
              "(array([1.78134581]), array([[0.93366893, 0.56456263]]))"
            ]
          },
          "metadata": {
            "tags": []
          },
          "execution_count": 22
        }
      ]
    },
    {
      "cell_type": "markdown",
      "metadata": {
        "id": "2zHyrxfM1cKF",
        "colab_type": "text"
      },
      "source": [
        "Not bad!  The model estimates $\\hat{y} = 0.50x^2_1 + 1.02x_1 + 1.96$ when the original function was $y = 0.50x^2_1 + 1.0x_1 + 2.0$ + Gaussian noise.\n",
        "\n",
        "Polynomial Regression is capable of finding relationships between features.  `PolynomialFeatures` also adds combinations of features up to the given degree.  For example, if thhere were two features $a$ and $b$, `PolynomialFeatures` with `degree=3` would not only add the features of $a^2$, $a^3$, $b^2$, and $b^3$, but also combinations $ab$, $a^2b$, and $ab^2$.\n",
        "\n",
        "__Warning: `PolynomialFeatures(degree = d)` transforms an array containing *n* features into an array containing $\\frac{(n + d)!}{d!n!}$ features.  Beware of the explosion of number of features!__"
      ]
    },
    {
      "cell_type": "markdown",
      "metadata": {
        "id": "lEy7H93KD66V",
        "colab_type": "text"
      },
      "source": [
        "# Learning Curves\n",
        "\n",
        "High-degree Polynomial Regression will likely fit the training data much better than plain Linear Regression.\n",
        "\n",
        "![](https://learning.oreilly.com/library/view/hands-on-machine-learning/9781492032632/assets/mls2_0414.png)\n",
        "\n",
        "In the above figure, the Polynomial Regression is severely overfitting the data, while the linear model is underfitting it.\n",
        "\n",
        "In general, you won't know what function generated the data, so how can you decide how complex the model should be?\n",
        "\n",
        "In Ch 2, we used cross-validation to estimate a model's generalization performance.  If it performs well on the training data but poorly on the cross-validation metrics, then your model is overfitting.  If it performs poorly on both, then it is underfitting.\n",
        "\n",
        "Another way is to look at the *learning curves*: these are plots of the model's performance on the training set and the validation set as a function of the training set size (or the training iteration).\n",
        "\n"
      ]
    },
    {
      "cell_type": "code",
      "metadata": {
        "id": "RsQTIlaa1CiG",
        "colab_type": "code",
        "colab": {}
      },
      "source": [
        "from sklearn.metrics import mean_squared_error\n",
        "from sklearn.model_selection import train_test_split\n",
        "\n",
        "import matplotlib.pyplot as plt\n",
        "\n",
        "def plot_learning_curves(model, X, y):\n",
        "    X_train, X_val, y_train, y_val = train_test_split(X, y, test_size=0.2, random_state=10)\n",
        "    train_errors, val_errors = [], []\n",
        "\n",
        "    # train model as amount of training data increases\n",
        "    for m in range(1, len(X_train)):\n",
        "        model.fit(X_train[:m], y_train[:m])\n",
        "        y_train_predict = model.predict(X_train[:m])\n",
        "        y_val_predict = model.predict(X_val)\n",
        "        train_errors.append(mean_squared_error(y_train[:m], y_train_predict))\n",
        "        val_errors.append(mean_squared_error(y_val, y_val_predict))\n",
        "\n",
        "    plt.plot(np.sqrt(train_errors), \"r-+\", linewidth=2, label=\"train\")\n",
        "    plt.plot(np.sqrt(val_errors), \"b-\", linewidth=3, label=\"val\")\n",
        "    plt.legend(loc=\"upper right\", fontsize=14)   # not shown in the book\n",
        "    plt.xlabel(\"Training set size\", fontsize=14) # not shown\n",
        "    plt.ylabel(\"RMSE\", fontsize=14)"
      ],
      "execution_count": 0,
      "outputs": []
    },
    {
      "cell_type": "code",
      "metadata": {
        "id": "zJQyRdSxAWVA",
        "colab_type": "code",
        "outputId": "4cef7290-aa93-4b0a-b97d-09663053ce10",
        "colab": {
          "base_uri": "https://localhost:8080/",
          "height": 291
        }
      },
      "source": [
        "# define Lienar Regression model\n",
        "lin_reg = LinearRegression()\n",
        "\n",
        "# plot learning curves\n",
        "plot_learning_curves(lin_reg, X, y)\n",
        "plt.axis([0, 80, 0, 3])                         # not shown in the book\n",
        "plt.show()                                      # not shown"
      ],
      "execution_count": 0,
      "outputs": [
        {
          "output_type": "display_data",
          "data": {
            "image/png": "[encoded data removed]",
            "text/plain": [
              "<Figure size 432x288 with 1 Axes>"
            ]
          },
          "metadata": {
            "tags": []
          }
        }
      ]
    },
    {
      "cell_type": "markdown",
      "metadata": {
        "id": "q7XcsH9tK2Iu",
        "colab_type": "text"
      },
      "source": [
        "When there are only two points, the model can fit the training set perfectly - but has a really high error for the validation set.  As the model sees more and more data, the error plateaus as a linear model would never be able to fit a quadratic equation.\n",
        "\n",
        "This is a curve typical of a model that is underfitting.  Both curves have plateaued, they are close and the error is high.\n",
        "\n",
        "__Tip: If the model is underfitting, more data will not help.  We would need to use a more complex model or come up with better features.__\n",
        "\n",
        "Now, let's look at the learning curve of a 10th degree polynomial model on the same data:"
      ]
    },
    {
      "cell_type": "code",
      "metadata": {
        "id": "-HgdMXGjJOoA",
        "colab_type": "code",
        "outputId": "f4cde67b-b80c-4752-e549-739b99390fa6",
        "colab": {
          "base_uri": "https://localhost:8080/",
          "height": 291
        }
      },
      "source": [
        "from sklearn.pipeline import Pipeline\n",
        "\n",
        "# create 10 degree features\n",
        "polynomial_regression = Pipeline([\n",
        "        ('poly_features', PolynomialFeatures(degree = 10, include_bias = False)),\n",
        "        ('lin_reg', LinearRegression()),\n",
        "    ])\n",
        "\n",
        "plot_learning_curves(polynomial_regression, X, y)\n",
        "plt.axis([0, 80, 0, 3])\n",
        "plt.show()"
      ],
      "execution_count": 0,
      "outputs": [
        {
          "output_type": "display_data",
          "data": {
            "image/png": "[encoded data removed]",
            "text/plain": [
              "<Figure size 432x288 with 1 Axes>"
            ]
          },
          "metadata": {
            "tags": []
          }
        }
      ]
    },
    {
      "cell_type": "markdown",
      "metadata": {
        "id": "LHJreXWmM4eG",
        "colab_type": "text"
      },
      "source": [
        "There are two importance differences here:\n",
        "- The error in the training data is much lower\n",
        "- If there is a gap between the curves, meaning the model does better on the training data than the validation error, which is a hallmark of an overfitting model.\n",
        "\n",
        "__Tip: One way to improve an overfitting model is to feed it more training data until the validation error reaches the training error.__"
      ]
    },
    {
      "cell_type": "markdown",
      "metadata": {
        "id": "S8ERZKd6OaEP",
        "colab_type": "text"
      },
      "source": [
        "### The Bias/Variance Trade-Off\n",
        "\n",
        "- *Bias*: The part of the generalization error is due to wrong assumptions, such as assuming that the data is linear when it is actually quadratic.  A high-bias model is likely to underfit the training data.\n",
        "\n",
        "- *Variance*: This part is due to the model's excessive sensitivity to small variations in the training data.  A model with many degrees of freedom (high-degree polynomial) is likely to have high variance and thus overfit the training data.\n",
        "\n",
        "- *Irreducible error*: This part is due to the noisiness of the data itself.  To reduce this part of the error, we have to clean up the data.  (e.g., fix the data sources, remove outliers, fix broken sensors).\n",
        "\n",
        "Increasing a model's complexity will typically increase its variance and reduce it's bias and vice-versa."
      ]
    },
    {
      "cell_type": "markdown",
      "metadata": {
        "id": "-RyqdatzPQV5",
        "colab_type": "text"
      },
      "source": [
        "# Regularized Linear Models\n",
        "\n",
        "A good way to reduce overfitting is to regularize the model (i.e., to contrain it): the fewer degrees of freedom it has, the harder it will be for it to overfit the data.  A simple way to regularize a polynomial model is to reduce the number of polynomial degrees.\n",
        "\n",
        "For a linear model, regularization is typically achieved by constraining the weights of the model.\n",
        "\n",
        "Let's look at Ridge Regression, Lasso Regression, and Elastic Net, which implement three different ways to constrain the weights.\n",
        "\n",
        "## Ridge Regression\n",
        "\n",
        "*Ridge Regression* also known as *Tikhonov regularization* is a regularized version of the Linear Regression: a *regularization term* equal to $\\alpha \\sum_{i=1}^{n} \\theta_1^2$ is added to the cost function.  This forces the learning algorithm to not only fit the data but also keep the model weights as small as possible.\n",
        "\n",
        "The regularization term should only be added to the cost function during training.\n",
        "\n",
        "Once the model is trained, we will use the unregularized performance measure to evaluate the model's performance.\n",
        "\n",
        "__Note: It is quite common for the cost function used during training to be different from the performance measure used for testing.__\n",
        "\n",
        "The hyperparameter $\\alpha$ controls how much you want to regularize the model.  If $\\alpha = 0$, then Ridge Regression is just Linear Regression.  If $\\alpha$ is very large, then all weights end up very close to zero and the result is a flat line going through the data's mean.\n",
        "\n",
        "Ridge Regression cost function:\n",
        "\n",
        "$J(\\theta) = MSE(\\theta) + \\alpha \\frac{1}{2} \\sum_{i=1}^n \\theta_i^2$\n",
        "\n",
        "__Note: the bias term $\\theta_0$ is not regularized (the sum starts at i = 1, not 0)__\n",
        "\n",
        "If we define __w__ as the vector of feature weights $\\theta_0$ to $\\theta_n$, then the regularization term is equal to $1/2 (\\left|\\left| w \\right|\\right|_2)^2 $ where $\\left|\\left| w \\right|\\right|_2$ represents the $\\ell_2$ norm of the weight vector.  For Gradient Descent, just add $\\alpha w$ to the MSE gradient vector.\n",
        "\n",
        "__Warning: It is important to scale the data before performing Ridge Regression as it is sensitive to the scale of the input features.  This is true of most regularized models.__\n",
        "\n",
        "![](https://learning.oreilly.com/library/view/hands-on-machine-learning/9781492032632/assets/mls2_0417.png)"
      ]
    },
    {
      "cell_type": "markdown",
      "metadata": {
        "id": "XsO1PNejg-5z",
        "colab_type": "text"
      },
      "source": [
        "The data above represents some linear data.  On the left, plain Ridge models are used leading to linear predictions.  On the right, the data is expanded using `PolynomialFeatures(degree = 10)`, then it is scaled using a `StandardScaler` and finally the Ridge models are applied.\n",
        "\n",
        "Note how the increasing $\\alpha$ leads to flatter predictions, thus reducing the model's variance but increasing its bias.\n",
        "\n",
        "The closed form of the Ridge Regression is as follows:\n",
        "\n",
        "$\\hat{\\theta} = (X^T X + \\alpha A)^{-1} X^T y$\n",
        "\n",
        "To implement Ridge Regression in Scikit-Learn a matrix factorization technique by André-Louis Cholesky:"
      ]
    },
    {
      "cell_type": "code",
      "metadata": {
        "id": "flTWtL56MQFo",
        "colab_type": "code",
        "outputId": "3aca73af-d200-4b4c-a839-5828b1ae1ca1",
        "colab": {
          "base_uri": "https://localhost:8080/",
          "height": 34
        }
      },
      "source": [
        "from sklearn.linear_model import Ridge\n",
        "\n",
        "ridge_reg = Ridge(alpha = 1, solver = 'cholesky')\n",
        "ridge_reg.fit(X, y)\n",
        "ridge_reg.predict([[1.5]])"
      ],
      "execution_count": 0,
      "outputs": [
        {
          "output_type": "execute_result",
          "data": {
            "text/plain": [
              "array([[4.82497007]])"
            ]
          },
          "metadata": {
            "tags": []
          },
          "execution_count": 26
        }
      ]
    },
    {
      "cell_type": "markdown",
      "metadata": {
        "id": "mwkxZ2TUiD-j",
        "colab_type": "text"
      },
      "source": [
        "And using Gradient Descent:"
      ]
    },
    {
      "cell_type": "code",
      "metadata": {
        "id": "Oe-9eUYFiB8t",
        "colab_type": "code",
        "outputId": "7ae38522-4f2e-4521-a640-0af2a0cf7a07",
        "colab": {
          "base_uri": "https://localhost:8080/",
          "height": 34
        }
      },
      "source": [
        "sgd_reg = SGDRegressor(penalty=\"l2\", max_iter = 1000, tol = 1e-3, random_state = 42)\n",
        "sgd_reg.fit(X, y.ravel())\n",
        "sgd_reg.predict([[1.5]])"
      ],
      "execution_count": 0,
      "outputs": [
        {
          "output_type": "execute_result",
          "data": {
            "text/plain": [
              "array([4.81978491])"
            ]
          },
          "metadata": {
            "tags": []
          },
          "execution_count": 27
        }
      ]
    },
    {
      "cell_type": "markdown",
      "metadata": {
        "id": "Ii4234XBjk9j",
        "colab_type": "text"
      },
      "source": [
        "The penalty hyperparemter sets the type of regularization term to use.  Specifying \"`l2`\" indicates that you want SGD to add a regularization term to the cost function equal to half the square of the $\\ell_2$ norm of the weight vector: this is simply Ridge Regression."
      ]
    },
    {
      "cell_type": "markdown",
      "metadata": {
        "id": "DCEBBuY4j2YJ",
        "colab_type": "text"
      },
      "source": [
        "## Lasso Regression\n",
        "\n",
        "*Least Absolute Shrinkage and Selection Operator Regression* (simply called Lasso Regression) is another regularized version of Linear Regression.\n",
        "\n",
        "It adds a regularization term to the cost function, but it uses the $\\ell_1$ norm of the weight vector instead of half the square of the $\\ell_2$ norm.\n",
        "\n",
        "Lasso Regression cost function:\n",
        "\n",
        "$J(\\theta) = MSE(\\theta) + \\alpha \\sum_{i=1}^n \\left| \\theta_i \\right|$\n",
        "\n",
        "![](https://learning.oreilly.com/library/view/hands-on-machine-learning/9781492032632/assets/mls2_0418.png)\n",
        "\n",
        "An important chacteristic of Lasso Regression is that it tends to elminiate the weights of the least important features (set them to zero).  Lasso Regression automatically performs feature selection and outpouts a *sparse matrix model*.\n",
        "\n",
        "![](https://learning.oreilly.com/library/view/hands-on-machine-learning/9781492032632/assets/mls2_0419.png)\n",
        "\n",
        "There are two main differences with Lasso:\n",
        "1. The gradients get smaller as the parameter approach the global optimum, so gradient descent naturally slows down.\n",
        "2. The optimal parameters get closer and closer to the origin when you increase $\\alpha$, but they never get elminated entirely.\n",
        "\n",
        "The Lasso cost function is not differentiable at $\\theta_i = 0$, but Gradient Descent still works fine for a *subgradient vector* __g__ when $\\theta_i = 0$.\n",
        "\n",
        "Lasso Regression subgradient vector:\n",
        "\n",
        "$g(\\theta, J) = \\triangledown_\\theta MSE(\\theta) + \\alpha \\begin{pmatrix} sign(\\theta_1) \\\\ sign(\\theta_2) \\\\ \\vdots \\\\ sign(\\theta_n) \\end{pmatrix} \\text{where} \\,sign(\\theta_i) = \\begin{cases} -1 & \\text{if} \\, \\theta_i < 0 \\\\ 0 & \\text{if} \\, \\theta_i = 0 \\\\ +1 & \\text{if} \\, \\theta_i > 0 \\end{cases}$\n",
        "\n",
        "Here is a small Scikit-Learn example using the `Lasso` class:"
      ]
    },
    {
      "cell_type": "code",
      "metadata": {
        "id": "FRSDpOU0i-Sv",
        "colab_type": "code",
        "outputId": "3a002ee4-4f0a-4474-8953-8e051eacf43f",
        "colab": {
          "base_uri": "https://localhost:8080/",
          "height": 34
        }
      },
      "source": [
        "from sklearn.linear_model import Lasso\n",
        "lasso_reg = Lasso(alpha = 0.1)\n",
        "lasso_reg.fit(X, y)\n",
        "lasso_reg.predict([[1.5]])"
      ],
      "execution_count": 0,
      "outputs": [
        {
          "output_type": "execute_result",
          "data": {
            "text/plain": [
              "array([4.77621741])"
            ]
          },
          "metadata": {
            "tags": []
          },
          "execution_count": 28
        }
      ]
    },
    {
      "cell_type": "markdown",
      "metadata": {
        "id": "pcivXewVoAoG",
        "colab_type": "text"
      },
      "source": [
        "We can also use an `SGDRegressor(penalty='l1')`.\n",
        "\n",
        "## Elastic Net\n",
        "\n",
        "Elastic Net is a middle ground between Ridge Regression and Lasso Regression.  The regularization term is a simple mix between Ridge and Lasso's regularization terms, you control the mix ratio with *r*.  When *r = 0*, Elastic Net is equivalent to Ridge Regression; and when *r = 1*, it is equivalent to Lasso Regression.\n",
        "\n",
        "Elastic Net cost function:\n",
        "\n",
        "$J(\\theta) = MSE(\\theta) + r \\alpha \\sum_{i=1}^n \\left| \\theta_i \\right| + \\frac{1-r}{2} \\alpha \\sum_{i=1}^n \\theta_i^2$\n",
        "\n",
        "It is almost always preferred to have a little bit of regularization, so generally you want to avoid plain Linear Regression.\n",
        "\n",
        "**Ridge is a good default, but if you suspect that only a few features are useful, you should prefer Lasso or Elastic Net since they reduce the useless feature's weights down to zero.**\n",
        "\n",
        "**In general, Elastic Net is preferred over Lasso because Lasso may behave erratically when the number of features is greater than the number of training instances or when several features are strongly correlated.**\n",
        "\n",
        "In Scikit-Learn, we can use the `ElasticNet` function:"
      ]
    },
    {
      "cell_type": "code",
      "metadata": {
        "id": "CAA_Ts2fTyc_",
        "colab_type": "code",
        "outputId": "86223966-c516-42d9-b1f3-8c1b9ab41d16",
        "colab": {
          "base_uri": "https://localhost:8080/",
          "height": 34
        }
      },
      "source": [
        "from sklearn.linear_model import ElasticNet\n",
        "\n",
        "elastic_net = ElasticNet(alpha = 0.1, l1_ratio = 0.5)\n",
        "elastic_net.fit(X, y)\n",
        "\n",
        "elastic_net.predict([[1.5]])"
      ],
      "execution_count": 0,
      "outputs": [
        {
          "output_type": "execute_result",
          "data": {
            "text/plain": [
              "array([4.78114505])"
            ]
          },
          "metadata": {
            "tags": []
          },
          "execution_count": 29
        }
      ]
    },
    {
      "cell_type": "markdown",
      "metadata": {
        "id": "ZrzEZSiCRtkV",
        "colab_type": "text"
      },
      "source": [
        "## Early Stopping\n",
        "\n",
        "Another way to regularize iterative learning algorithms such as Gradient Descent is to stop training as soon as the validation errror reaches a minimum.\n",
        "\n",
        "![](https://learning.oreilly.com/library/view/hands-on-machine-learning/9781492032632/assets/mls2_0420.png)\n",
        "\n",
        "As the algorithm learns, the the RMSE on both the validation and training set go down.  After some time, the model begins to overfit the training data and the validation error begins to increase.\n",
        "\n",
        "__Tip: With Stochastic and Mini-batch Gradient Descent, it may be hard to know whether you have reached the minimum or not.  One solution is to stop only after the validation error has been above the minimum for some time, then roll back the parameters to where the validation error was at a minimum.__\n",
        "\n",
        "A simple implementation of early stopping:"
      ]
    },
    {
      "cell_type": "code",
      "metadata": {
        "id": "Abnq_s_Zn8u2",
        "colab_type": "code",
        "colab": {}
      },
      "source": [
        "from sklearn.base import clone\n",
        "from sklearn.preprocessing import StandardScaler\n",
        "\n",
        "# initial values\n",
        "np.random.seed(42)\n",
        "m = 100\n",
        "X = 6 * np.random.rand(m, 1) - 3\n",
        "y = 2 + X + 0.5 * X**2 + np.random.randn(m, 1)\n",
        "\n",
        "X_train, X_val, y_train, y_val = train_test_split(X[:50], y[:50].ravel(), test_size=0.5, random_state=10)\n",
        "\n",
        "# creates polynomial features and scales the features\n",
        "poly_scaler = Pipeline([\n",
        "        ('poly_features', PolynomialFeatures(degree = 90, include_bias = False)),\n",
        "        ('std_scaler', StandardScaler())\n",
        "    ])\n",
        "\n",
        "# run training and validation set through the transformation pipeline\n",
        "X_train_poly_scaled = poly_scaler.fit_transform(X_train)\n",
        "X_val_poly_scaled = poly_scaler.fit_transform(X_val)\n",
        "\n",
        "# SGDRegressor constructor\n",
        "sgd_reg = SGDRegressor(max_iter = 1, tol = -np.infty, warm_start = True,\n",
        "                       penalty = None, learning_rate = 'constant', eta0 = 0.0005)\n",
        "\n",
        "# initial values\n",
        "minimum_val_error = float('inf')\n",
        "best_epoch = None\n",
        "best_model = None\n",
        "\n",
        "# cycle through the data 1000 times\n",
        "for epoch in range(1000):\n",
        "  # fit the training data\n",
        "  sgd_reg.fit(X_train_poly_scaled, y_train)\n",
        "\n",
        "  # predict y values using model\n",
        "  y_val_predict = sgd_reg.predict(X_val_poly_scaled)\n",
        "\n",
        "  #calculate error of model\n",
        "  val_error = mean_squared_error(y_val, y_val_predict)\n",
        "\n",
        "  # if minimum error, save model\n",
        "  if val_error < minimum_val_error:\n",
        "    minimum_val_error = val_error\n",
        "    best_epoch = epoch\n",
        "    best_model = clone(sgd_reg)"
      ],
      "execution_count": 0,
      "outputs": []
    },
    {
      "cell_type": "code",
      "metadata": {
        "id": "GxSRIqhAXhLI",
        "colab_type": "code",
        "outputId": "def4d25a-117b-46b6-872d-42bec902c23a",
        "colab": {
          "base_uri": "https://localhost:8080/",
          "height": 153
        }
      },
      "source": [
        "# print minimum validation error, the best epoch, and the model\n",
        "minimum_val_error, best_epoch, best_model"
      ],
      "execution_count": 0,
      "outputs": [
        {
          "output_type": "execute_result",
          "data": {
            "text/plain": [
              "(1.1441995015348037,\n",
              " 444,\n",
              " SGDRegressor(alpha=0.0001, average=False, early_stopping=False, epsilon=0.1,\n",
              "              eta0=0.0005, fit_intercept=True, l1_ratio=0.15,\n",
              "              learning_rate='constant', loss='squared_loss', max_iter=1,\n",
              "              n_iter_no_change=5, penalty=None, power_t=0.25, random_state=None,\n",
              "              shuffle=True, tol=-inf, validation_fraction=0.1, verbose=0,\n",
              "              warm_start=True))"
            ]
          },
          "metadata": {
            "tags": []
          },
          "execution_count": 31
        }
      ]
    },
    {
      "cell_type": "markdown",
      "metadata": {
        "id": "zDegB4j9YwfF",
        "colab_type": "text"
      },
      "source": [
        "# Logistic Regression\n",
        "\n",
        "*Logistic Regression* is commonly used to estimate the probability that an instance belongs to a particular class.\n",
        "\n",
        "If the estimated probability is greater than 50% then the model predicts the instance belongs to a certain class or else it predicts that it does not.\n",
        "\n",
        "## Estimating Probabilities\n",
        "\n",
        "Similar to a Linear Regression model, a Logistic Regression model computes the weighted sum of the input features (plus a bias term), but instead of outputting the result directly, it outputs the *logistic* of the result.\n",
        "\n",
        "Logistc Regression Model:\n",
        "\n",
        "$\\hat{p} = h_\\theta(x) = \\sigma (X^T \\theta)$\n",
        "\n",
        "The logistic noted $\\sigma$ - *sigmoid function* outputs a number between 0 and 1.\n",
        "\n",
        "Logistic function:\n",
        "\n",
        "$\\sigma(t) = \\frac{1}{1+ exp (-t)}$"
      ]
    },
    {
      "cell_type": "code",
      "metadata": {
        "id": "CRCX1QCQYn3c",
        "colab_type": "code",
        "outputId": "5c5821ba-0a0d-49aa-d26b-81f3f9a2195c",
        "colab": {
          "base_uri": "https://localhost:8080/",
          "height": 235
        }
      },
      "source": [
        "# plot logistic function\n",
        "t = np.linspace(-10, 10, 100)\n",
        "sig = 1 / (1 + np.exp(-t))\n",
        "plt.figure(figsize=(9, 3))\n",
        "plt.plot([-10, 10], [0, 0], \"k-\")\n",
        "plt.plot([-10, 10], [0.5, 0.5], \"k:\")\n",
        "plt.plot([-10, 10], [1, 1], \"k:\")\n",
        "plt.plot([0, 0], [-1.1, 1.1], \"k-\")\n",
        "plt.plot(t, sig, \"b-\", linewidth=2, label=r\"$\\sigma(t) = \\frac{1}{1 + e^{-t}}$\")\n",
        "plt.xlabel(\"t\")\n",
        "plt.legend(loc=\"upper left\", fontsize=20)\n",
        "plt.axis([-10, 10, -0.1, 1.1])\n",
        "plt.show()"
      ],
      "execution_count": 0,
      "outputs": [
        {
          "output_type": "display_data",
          "data": {
            "image/png": "[encoded data removed]",
            "text/plain": [
              "<Figure size 648x216 with 1 Axes>"
            ]
          },
          "metadata": {
            "tags": []
          }
        }
      ]
    },
    {
      "cell_type": "markdown",
      "metadata": {
        "id": "57CbHANRcGMe",
        "colab_type": "text"
      },
      "source": [
        "Once the Logistic Regression model has estimated the probability $\\hat{p}$ that an instance __x__ belongs to the positive class, it can mae its prediction $\\hat{y}$ easily:\n",
        "\n",
        "$\\hat{y} = \\begin{cases} 0 & \\text{if } \\hat{p} < 0.5 \\\\ 1 & \\text{if } \\hat{p} \\ge 0.5\\end{cases}$\n",
        "\n",
        "Note, if the *logit* score *t* is positive the model predicts 1 and when *t* is negative the model predicts 0.\n",
        "\n",
        "## Training and Cost Function\n",
        "\n",
        "The objective of training is to set the parameter vector $\\theta$ so that the model estimates high probabilities for positive instances (y = 1) and low probabilities for negative instances (y = 0).\n",
        "\n",
        "Cost function of a single training instance:\n",
        "\n",
        "$c(\\theta) = \\begin{cases} -log(\\hat{p}) & \\text{if } y = 1 \\\\ -log(1 - \\hat{p}) & \\text{if } y = 0\\end{cases}$\n",
        "\n"
      ]
    },
    {
      "cell_type": "code",
      "metadata": {
        "id": "65spUQIob9b9",
        "colab_type": "code",
        "outputId": "db55f8a4-7c5f-4c0e-87c0-552847a78dbd",
        "colab": {
          "base_uri": "https://localhost:8080/",
          "height": 290
        }
      },
      "source": [
        "# plot the cost function\n",
        "t = np.linspace(0.001, .999)\n",
        "pos = -np.log(t)\n",
        "neg = -np.log(1-t)\n",
        "\n",
        "plt.plot(t, pos, 'b-', label = 'Positive Case')\n",
        "plt.plot(t, neg, 'r-', label = 'Negative Case')\n",
        "plt.xlabel('t')\n",
        "plt.ylabel('$cost$')\n",
        "plt.legend()\n",
        "plt.show()"
      ],
      "execution_count": 0,
      "outputs": [
        {
          "output_type": "display_data",
          "data": {
            "image/png": "[encoded data removed]",
            "text/plain": [
              "<Figure size 432x288 with 1 Axes>"
            ]
          },
          "metadata": {
            "tags": []
          }
        }
      ]
    },
    {
      "cell_type": "markdown",
      "metadata": {
        "id": "apXZzC1kfqB6",
        "colab_type": "text"
      },
      "source": [
        "For the positive case: \n",
        "- the cost will be high when the logit expression is close to 0  \n",
        "- the cost will be low when the logit expression is close to 1\n",
        "\n",
        "For the negative case:\n",
        "- the cost will be high when the logit expression is close to 1\n",
        "- the cost will be low when the logit expression is close to 0\n",
        "\n",
        "The average cost over all training instances can be written in a single expression called the *log loss*:\n",
        "\n",
        "$J(\\theta) = - \\frac{1}{m} \\sum_{i=1}^m [y^i log(\\hat{p}^i) + (1-y^i)log(1-\\hat{p}^i)]$\n",
        "\n",
        "Unfortunately, there is no closed-form equation to compute the value of $\\theta$ that minimizes this cost function like the Normal Equation.\n",
        "\n",
        "The good news is that the function is convex so Gradient Descent (or any other optimization algorithm) is guaranteed to find the global minimum.\n",
        "\n",
        "The partial derivatives of the cost function with regard to the $j^{th}$ model parameter $\\theta_j$:\n",
        "\n",
        "$\\frac{\\delta}{\\delta \\theta_j}J(\\theta) = \\frac{1}{m} \\sum_{i=1}^m (\\sigma(\\theta^T x^i) - y^i)x_j^i$\n",
        "\n",
        "For each instance, it computes the prediction error and multiplies it by the $j^{th}$ feature value, and then it computes the average over all training instances.\n",
        "\n",
        "Once you have the gradient vector containing all the partial derivatives, you can use it in the Batch Gradient Descent algorithm.  For Stochastic GD, you take one instance at a time, and for Mini-batch GD you use a mini-batch at a time.\n",
        "\n",
        "## Decision Boundaries\n",
        "\n",
        "Let's use the iris dataset to illustrate Logistic Regression.\n",
        "\n",
        "We will build a classifier to detect the *Iris virginica* based only on the petal width feature.\n",
        "\n",
        "First, let's load the data:"
      ]
    },
    {
      "cell_type": "code",
      "metadata": {
        "id": "0NnhpiNeeZAv",
        "colab_type": "code",
        "outputId": "e3a63bc2-bfcc-4392-9ad2-2be972720848",
        "colab": {
          "base_uri": "https://localhost:8080/",
          "height": 34
        }
      },
      "source": [
        "from sklearn import datasets\n",
        "\n",
        "# load Iris dataset\n",
        "iris = datasets.load_iris()\n",
        "list(iris.keys())"
      ],
      "execution_count": 0,
      "outputs": [
        {
          "output_type": "execute_result",
          "data": {
            "text/plain": [
              "['data', 'target', 'target_names', 'DESCR', 'feature_names', 'filename']"
            ]
          },
          "metadata": {
            "tags": []
          },
          "execution_count": 34
        }
      ]
    },
    {
      "cell_type": "code",
      "metadata": {
        "id": "aeKJEvUyQfKW",
        "colab_type": "code",
        "colab": {}
      },
      "source": [
        "# extract petal width features and label\n",
        "X = iris['data'][:, 3:]\n",
        "# 1 if Iris virginica, else 0\n",
        "y = (iris['target'] == 2).astype(np.int)"
      ],
      "execution_count": 0,
      "outputs": []
    },
    {
      "cell_type": "code",
      "metadata": {
        "id": "UY76D4vkSpW1",
        "colab_type": "code",
        "outputId": "e5ab907d-6028-4c7c-bc6c-646a968cfabe",
        "colab": {
          "base_uri": "https://localhost:8080/",
          "height": 102
        }
      },
      "source": [
        "from sklearn.linear_model import LogisticRegression\n",
        "\n",
        "# Logistic Regression constructor\n",
        "log_reg = LogisticRegression(solver = 'lbfgs')\n",
        "\n",
        "# fit model to our data\n",
        "log_reg.fit(X, y)"
      ],
      "execution_count": 0,
      "outputs": [
        {
          "output_type": "execute_result",
          "data": {
            "text/plain": [
              "LogisticRegression(C=1.0, class_weight=None, dual=False, fit_intercept=True,\n",
              "                   intercept_scaling=1, l1_ratio=None, max_iter=100,\n",
              "                   multi_class='warn', n_jobs=None, penalty='l2',\n",
              "                   random_state=None, solver='lbfgs', tol=0.0001, verbose=0,\n",
              "                   warm_start=False)"
            ]
          },
          "metadata": {
            "tags": []
          },
          "execution_count": 36
        }
      ]
    },
    {
      "cell_type": "markdown",
      "metadata": {
        "id": "SqRxNZm6TCAT",
        "colab_type": "text"
      },
      "source": [
        "Let's look at the model's estimated probabilities for flowers with petal widths varying from 0 cm to 3 cm:"
      ]
    },
    {
      "cell_type": "code",
      "metadata": {
        "id": "F4vHlXGUTBeo",
        "colab_type": "code",
        "outputId": "1a1bfd9e-549f-49f7-ca4f-0919ceb16191",
        "colab": {
          "base_uri": "https://localhost:8080/",
          "height": 272
        }
      },
      "source": [
        "X_new = np.linspace(0, 3, 1000).reshape(-1, 1)\n",
        "y_proba = log_reg.predict_proba(X_new)\n",
        "\n",
        "plt.plot(X_new, y_proba[:, 1], \"g-\", linewidth=2, label=\"Iris virginica\")\n",
        "plt.plot(X_new, y_proba[:, 0], \"b--\", linewidth=2, label=\"Not Iris virginica\")\n",
        "plt.legend();"
      ],
      "execution_count": 0,
      "outputs": [
        {
          "output_type": "display_data",
          "data": {
            "image/png": "[encoded data removed]",
            "text/plain": [
              "<Figure size 432x288 with 1 Axes>"
            ]
          },
          "metadata": {
            "tags": []
          }
        }
      ]
    },
    {
      "cell_type": "markdown",
      "metadata": {
        "id": "VP46hbxhah_K",
        "colab_type": "text"
      },
      "source": [
        "In between the two extremes at 1.4 cm to 2.0 cm, the classifer is unsure.  There is a decision boundary at 1.6 cm where both probabilities are around 50%.  It will still predict the flower is an *Iris virginica* even if it is not very confident."
      ]
    },
    {
      "cell_type": "code",
      "metadata": {
        "id": "vvXIVLmbaUxd",
        "colab_type": "code",
        "outputId": "1317143e-d796-447a-fa5b-3ca1cd8ed672",
        "colab": {
          "base_uri": "https://localhost:8080/",
          "height": 34
        }
      },
      "source": [
        "log_reg.predict([[1.66], [1.67]])"
      ],
      "execution_count": 0,
      "outputs": [
        {
          "output_type": "execute_result",
          "data": {
            "text/plain": [
              "array([0, 1])"
            ]
          },
          "metadata": {
            "tags": []
          },
          "execution_count": 38
        }
      ]
    },
    {
      "cell_type": "markdown",
      "metadata": {
        "id": "Xvmo0fX3coBZ",
        "colab_type": "text"
      },
      "source": [
        "Logistic Regression models can also be regularized using $\\ell_1$ or $\\ell_2$ penalties.  Scikit-Learn actually adds an $\\ell_2$ penalty by default.\n",
        "\n",
        "## Softmax Regression\n",
        "\n",
        "In Linear Regression, multiple binary classifiers were trained.  However, a Logistic Regression model can be generalized to support multiple classes directly.  This is called *Softmas Regression* or *Multinomial Logistic Regression*.\n",
        "\n",
        "When given an instance __x__, the Softmax Regression model first computes a score $s_k(x)$ for each class *k*, then estimates the probability of each class by applying the *softmax function (normalized exponential)* to the scores.\n",
        "\n",
        "Softmax score for class k:\n",
        "\n",
        "$s_k(x) = x^T \\theta^k$\n",
        "\n",
        "Once we have computed the score of every class for the instance __x__, we can estimate the probability $\\hat{p}_k$ that the instance belongs to class *k* by running the scores through the softmax function.\n",
        "\n",
        "The function computes the exponential of every score, then normalizes them by dividing the sum of all the exponentials.\n",
        "\n",
        "Softmax function:\n",
        "\n",
        "$\\hat{p}_k = \\sigma (s(x))_k = \\frac{exp(s_k(x))}{\\sum_{j=1}^K exp(s_j(x))}$\n",
        "\n",
        "In this equation:\n",
        "- *K* is the number of classes\n",
        "- s(__x__) is a vector containing the scores of each class for the instance __x__\n",
        "- $\\sigma (s(x))_k$ is the estimated probability that the instance __x__ belongs to class *k*\n",
        "\n",
        "The Softmax Regression classifier predicts the class with the highest estimated probability (the class with the highest score).\n",
        "\n",
        "Softmax Regression classifier prediction:\n",
        "\n",
        "$\\hat{y} = \\underset{k}{\\text{argmax}} \\, \\sigma (s(x))_k = \\underset{k}{\\text{argmax}} \\, s_k(x) = \\underset{k}{\\text{argmax}} \\, ((\\theta^k)^Tx)$\n",
        "\n",
        "In this equation:\n",
        "- *argmax* returns the value of a variable that maximiezes a function.\n",
        "\n",
        "__Note: The Softmax Regression classifier can only predict one class at a time.  i.e., it cannot be used to recognize multiple people in one picture.__\n",
        "\n",
        "Minimizing the cost function called the *cross entropy* should lead to this objective since it penalizes the model when it estimates a low probability for a target class.\n",
        "\n",
        "Cross entropy cost function:\n",
        "\n",
        "$J(\\Theta) = - \\frac{1}{m} \\sum_{i=1}^m \\sum_{k=1}^K y_k^i \\log(\\hat{p}_k^i)$\n",
        "\n",
        "In this equation:\n",
        "- $y_k^i$ is the target probability that the $i^{th}$ instance belongs to class *k*.  In general, it is either equal to 1 or 0.\n",
        "\n",
        "The gradient vector of this cost function with regard to $\\theta^k$ is:\n",
        "\n",
        "$\\triangledown_{\\theta^k} J(\\Theta) = \\frac{1}{m} \\sum_{i=1}^m(\\hat{p}_k^i - y_k^i)x^i$\n",
        "\n",
        "Now we can compute the gradient vector for every class, then use Gradient Descent to find the parameter matrix $\\Theta$ that minimizes the cost function.\n",
        "\n",
        "We can use Scikit-Learn's `LogisticRegression` function and set the `multi_class` hyperparameter to \"`multinomial`\" to switch it to Softmax Regression.  We will also specify a solver that supports Softmax Regression such as \"`lbfgs`\".  It also applies a $\\ell_2$ regularization by default which we can control by using the hyperparameter `C`:"
      ]
    },
    {
      "cell_type": "code",
      "metadata": {
        "id": "42w6qhWIbjuL",
        "colab_type": "code",
        "outputId": "0f6e3baf-3451-40ce-ef28-9bf3a19bdddc",
        "colab": {
          "base_uri": "https://localhost:8080/",
          "height": 102
        }
      },
      "source": [
        "X = iris['data'][:, (2, 3)]\n",
        "y = iris['target']\n",
        "\n",
        "softmax_reg = LogisticRegression(multi_class = 'multinomial', solver = 'lbfgs', C = 10)\n",
        "softmax_reg.fit(X, y)"
      ],
      "execution_count": 0,
      "outputs": [
        {
          "output_type": "execute_result",
          "data": {
            "text/plain": [
              "LogisticRegression(C=10, class_weight=None, dual=False, fit_intercept=True,\n",
              "                   intercept_scaling=1, l1_ratio=None, max_iter=100,\n",
              "                   multi_class='multinomial', n_jobs=None, penalty='l2',\n",
              "                   random_state=None, solver='lbfgs', tol=0.0001, verbose=0,\n",
              "                   warm_start=False)"
            ]
          },
          "metadata": {
            "tags": []
          },
          "execution_count": 39
        }
      ]
    },
    {
      "cell_type": "code",
      "metadata": {
        "id": "d55QO2SE4uBr",
        "colab_type": "code",
        "outputId": "9c13d2c9-573c-48c3-fcca-4a2058a8cd79",
        "colab": {
          "base_uri": "https://localhost:8080/",
          "height": 34
        }
      },
      "source": [
        "softmax_reg.predict([[5, 2]])"
      ],
      "execution_count": 0,
      "outputs": [
        {
          "output_type": "execute_result",
          "data": {
            "text/plain": [
              "array([2])"
            ]
          },
          "metadata": {
            "tags": []
          },
          "execution_count": 40
        }
      ]
    },
    {
      "cell_type": "code",
      "metadata": {
        "id": "wK1tMt0o41BX",
        "colab_type": "code",
        "outputId": "c106a942-6ed1-49a1-b4e0-f2bfd40f4092",
        "colab": {
          "base_uri": "https://localhost:8080/",
          "height": 34
        }
      },
      "source": [
        "softmax_reg.predict_proba([[5, 2]])"
      ],
      "execution_count": 0,
      "outputs": [
        {
          "output_type": "execute_result",
          "data": {
            "text/plain": [
              "array([[6.38014896e-07, 5.74929995e-02, 9.42506362e-01]])"
            ]
          },
          "metadata": {
            "tags": []
          },
          "execution_count": 42
        }
      ]
    },
    {
      "cell_type": "markdown",
      "metadata": {
        "id": "lkrB8IMk4_O7",
        "colab_type": "text"
      },
      "source": [
        "When the model sees an iris with petals 5 cm long and 2 cm wide, it predicts it is an *Iris virginica* (class 2) with a 94.2% probability."
      ]
    },
    {
      "cell_type": "code",
      "metadata": {
        "id": "2B1befOS44Ac",
        "colab_type": "code",
        "outputId": "59d9354c-f787-4f68-876c-3ad66bac52a7",
        "colab": {
          "base_uri": "https://localhost:8080/",
          "height": 291
        }
      },
      "source": [
        "# plot decision boundaries\n",
        "x0, x1 = np.meshgrid(\n",
        "        np.linspace(0, 8, 500).reshape(-1, 1),\n",
        "        np.linspace(0, 3.5, 200).reshape(-1, 1),\n",
        "    )\n",
        "X_new = np.c_[x0.ravel(), x1.ravel()]\n",
        "\n",
        "\n",
        "y_proba = softmax_reg.predict_proba(X_new)\n",
        "y_predict = softmax_reg.predict(X_new)\n",
        "\n",
        "zz1 = y_proba[:, 1].reshape(x0.shape)\n",
        "zz = y_predict.reshape(x0.shape)\n",
        "\n",
        "plt.figure(figsize=(10, 4))\n",
        "plt.plot(X[y==2, 0], X[y==2, 1], \"g^\", label=\"Iris virginica\")\n",
        "plt.plot(X[y==1, 0], X[y==1, 1], \"bs\", label=\"Iris versicolor\")\n",
        "plt.plot(X[y==0, 0], X[y==0, 1], \"yo\", label=\"Iris setosa\")\n",
        "\n",
        "from matplotlib.colors import ListedColormap\n",
        "custom_cmap = ListedColormap(['#fafab0','#9898ff','#a0faa0'])\n",
        "\n",
        "plt.contourf(x0, x1, zz, cmap=custom_cmap)\n",
        "contour = plt.contour(x0, x1, zz1, cmap=plt.cm.brg)\n",
        "plt.clabel(contour, inline=1, fontsize=12)\n",
        "plt.xlabel(\"Petal length\", fontsize=14)\n",
        "plt.ylabel(\"Petal width\", fontsize=14)\n",
        "plt.legend(loc=\"center left\", fontsize=14)\n",
        "plt.axis([0, 7, 0, 3.5])\n",
        "plt.show()"
      ],
      "execution_count": 0,
      "outputs": [
        {
          "output_type": "display_data",
          "data": {
            "image/png": "[encoded data removed]",
            "text/plain": [
              "<Figure size 720x288 with 1 Axes>"
            ]
          },
          "metadata": {
            "tags": []
          }
        }
      ]
    },
    {
      "cell_type": "code",
      "metadata": {
        "id": "J_skFjrQ5kGJ",
        "colab_type": "code",
        "colab": {}
      },
      "source": [
        ""
      ],
      "execution_count": 0,
      "outputs": []
    }
  ]
}